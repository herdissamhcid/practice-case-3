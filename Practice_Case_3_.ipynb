{
 "cells": [
  {
   "cell_type": "markdown",
   "metadata": {},
   "source": [
    "# Home Credit Data Science Bootcamp - Practice Case 03\n",
    "This notebook created for Practice Case 03 (Foundation of Data Engineering) at iykra. <br>\n",
    "\n",
    "The Dataset about spam or not on Youtube Channel. Dataset available at UCI repository. <br> we also like to analyze some tweet about this topic on twitter.\n",
    "\n",
    "**Author**<br>\n",
    "Herdis Haerusalam<br>\n",
    "<br>\n",
    "**Date**<br>\n",
    "31 October 2019"
   ]
  },
  {
   "cell_type": "code",
   "execution_count": 1,
   "metadata": {
    "ExecuteTime": {
     "end_time": "2019-10-31T07:40:42.364100Z",
     "start_time": "2019-10-31T07:40:42.360158Z"
    }
   },
   "outputs": [],
   "source": [
    "# !pip install nltk\n",
    "# !pip install textblob \n",
    "# !pip install tweepy\n",
    "# !pip install re"
   ]
  },
  {
   "cell_type": "code",
   "execution_count": 61,
   "metadata": {
    "ExecuteTime": {
     "end_time": "2019-10-31T08:35:49.642211Z",
     "start_time": "2019-10-31T08:35:49.411837Z"
    }
   },
   "outputs": [
    {
     "name": "stderr",
     "output_type": "stream",
     "text": [
      "[nltk_data] Downloading package stopwords to\n",
      "[nltk_data]     /Users/herdishaerusalam/nltk_data...\n",
      "[nltk_data]   Package stopwords is already up-to-date!\n"
     ]
    }
   ],
   "source": [
    "import pandas as pd \n",
    "import numpy as np\n",
    "\n",
    "#Authentication module. for documentation  (http://docs.tweepy.org)\n",
    "import tweepy as tp\n",
    "\n",
    "#import nltk module \n",
    "import nltk\n",
    "nltk.download('stopwords')\n",
    "from nltk.corpus import stopwords\n",
    "from nltk.stem import PorterStemmer\n",
    "\n",
    "#import reguler expression \n",
    "import re\n",
    "\n",
    "#import textblob \n",
    "from textblob import TextBlob\n",
    "\n",
    "#import string, regex, , uniqcode\n",
    "import re, string, unicodedata\n",
    "\n",
    "#import sklearn preprocessing \n",
    "from sklearn.pipeline import Pipeline\n",
    "from sklearn.feature_extraction.text import CountVectorizer\n",
    "from sklearn.feature_extraction.text import TfidfTransformer\n",
    "from sklearn.feature_extraction.text import TfidfVectorizer\n",
    "\n",
    "#import sklearn for modeling\n",
    "from sklearn import svm\n",
    "from sklearn.naive_bayes import MultinomialNB\n",
    "from sklearn.linear_model import LogisticRegression\n",
    "from sklearn.model_selection import train_test_split\n",
    "\n",
    "#import sklearn for model evaluation \n",
    "from sklearn.metrics import confusion_matrix, classification_report\n",
    "from sklearn.metrics import accuracy_score, precision_score, recall_score, f1_score\n",
    "\n",
    "#import visualization module \n",
    "import matplotlib.pyplot as plt\n",
    "import seaborn as sns\n",
    "from wordcloud import WordCloud, STOPWORDS\n",
    "\n",
    "#import tqdm \n",
    "from tqdm import tqdm \n",
    "tqdm.pandas()\n",
    "\n",
    "#import beaurtiful soup \n",
    "from bs4 import BeautifulSoup\n",
    "\n",
    "#save model \n",
    "import pickle \n",
    "\n",
    "#textblob\n",
    "from textblob import Word\n",
    "\n",
    "from pandas.io.json import json_normalize\n",
    "\n",
    "#visualization \n",
    "import matplotlib.pyplot as plt\n",
    "import seaborn as sns \n",
    "%matplotlib inline "
   ]
  },
  {
   "cell_type": "markdown",
   "metadata": {},
   "source": [
    "**SOURCE** :  [Analytics Vidhya](https://www.analyticsvidhya.com/blog/2018/02/the-different-methods-deal-text-data-predictive-python)"
   ]
  },
  {
   "cell_type": "markdown",
   "metadata": {},
   "source": [
    "# Get your data from any sources including Web, Social Media, Portal, etc. by using either web scraping or API technique"
   ]
  },
  {
   "cell_type": "markdown",
   "metadata": {},
   "source": [
    "## Step A.1. Getting the authentication credentials"
   ]
  },
  {
   "cell_type": "code",
   "execution_count": 5,
   "metadata": {
    "ExecuteTime": {
     "end_time": "2019-10-31T07:58:28.607928Z",
     "start_time": "2019-10-31T07:58:28.592915Z"
    }
   },
   "outputs": [],
   "source": [
    "# initialize api instance\n",
    "consumer_key = 'ipJA9G7XA5wwu0Lslp9DvdjBf'\n",
    "consumer_secret = 'LayVEHgZ6cicQfb3qAkrdh8cxuf6dMRVIwlNs3Nq4H2Wtq8UsF'\n",
    "access_token = '815720882492448768-xuPAqcW6CxEioPcI4Wbnln3BNkWnXBn'\n",
    "access_token_secret = 'pwJ0dRqOfujTbwdjZbpC1Iw9xqMeG3ZcLLlqXurFQcF2W'\n",
    "\n",
    "#Authentication\n",
    "auth = tp.OAuthHandler(consumer_key, consumer_secret)\n",
    "auth.set_access_token(access_token, access_token_secret)\n",
    "api = tp.API(auth)"
   ]
  },
  {
   "cell_type": "markdown",
   "metadata": {},
   "source": [
    "## Step A.2. Getting a Dataset from twitter"
   ]
  },
  {
   "cell_type": "code",
   "execution_count": 6,
   "metadata": {
    "ExecuteTime": {
     "end_time": "2019-10-31T07:58:45.672890Z",
     "start_time": "2019-10-31T07:58:29.769880Z"
    }
   },
   "outputs": [],
   "source": [
    "#get tweet \n",
    "# tweets = tp.Cursor(api.search,q=\"#ONEPIECE955\",lang=\"en\").items(500)\n",
    "tweets = tp.Cursor(api.search,q=\"#Eminem\",lang=\"en\").items(500)\n",
    "result = []\n",
    "for tweet in  tweets :\n",
    "    result.append(tweet)"
   ]
  },
  {
   "cell_type": "markdown",
   "metadata": {},
   "source": [
    "## Step A.3 Extract Tweet to pandas dataframe"
   ]
  },
  {
   "cell_type": "code",
   "execution_count": 7,
   "metadata": {
    "ExecuteTime": {
     "end_time": "2019-10-31T07:58:45.686577Z",
     "start_time": "2019-10-31T07:58:45.675662Z"
    }
   },
   "outputs": [],
   "source": [
    "# extract tweet to the pandas dataframe\n",
    "def tweets_df(results):\n",
    "    id_list = [tweet.id for tweet  in results]\n",
    "    df = pd.DataFrame(id_list, columns = [\"id\"])\n",
    "    \n",
    "    df[\"text\"] = [tweet.text for tweet in results]\n",
    "    df[\"created_at\"] = [tweet.created_at for tweet in results]\n",
    "    df[\"retweet_count\"] = [tweet.retweet_count for tweet in results]\n",
    "    df[\"user_screen_name\"] = [tweet.author.screen_name for tweet in results]\n",
    "    df[\"user_followers_count\"] = [tweet.author.followers_count for tweet in results]\n",
    "    df[\"user_location\"] = [tweet.author.location for tweet in results]\n",
    "    df[\"Hashtags\"] = [tweet.entities.get('hashtags') for tweet in results]\n",
    "\n",
    "    return df"
   ]
  },
  {
   "cell_type": "code",
   "execution_count": 8,
   "metadata": {
    "ExecuteTime": {
     "end_time": "2019-10-31T07:58:45.778639Z",
     "start_time": "2019-10-31T07:58:45.692486Z"
    }
   },
   "outputs": [
    {
     "data": {
      "text/html": [
       "<div>\n",
       "<style scoped>\n",
       "    .dataframe tbody tr th:only-of-type {\n",
       "        vertical-align: middle;\n",
       "    }\n",
       "\n",
       "    .dataframe tbody tr th {\n",
       "        vertical-align: top;\n",
       "    }\n",
       "\n",
       "    .dataframe thead th {\n",
       "        text-align: right;\n",
       "    }\n",
       "</style>\n",
       "<table border=\"1\" class=\"dataframe\">\n",
       "  <thead>\n",
       "    <tr style=\"text-align: right;\">\n",
       "      <th></th>\n",
       "      <th>id</th>\n",
       "      <th>text</th>\n",
       "      <th>created_at</th>\n",
       "      <th>retweet_count</th>\n",
       "      <th>user_screen_name</th>\n",
       "      <th>user_followers_count</th>\n",
       "      <th>user_location</th>\n",
       "      <th>Hashtags</th>\n",
       "    </tr>\n",
       "  </thead>\n",
       "  <tbody>\n",
       "    <tr>\n",
       "      <th>0</th>\n",
       "      <td>1189813188751167488</td>\n",
       "      <td>grey leather base, white &amp;amp; orange accents,...</td>\n",
       "      <td>2019-10-31 07:55:44</td>\n",
       "      <td>0</td>\n",
       "      <td>untoldproof</td>\n",
       "      <td>26</td>\n",
       "      <td></td>\n",
       "      <td>[]</td>\n",
       "    </tr>\n",
       "    <tr>\n",
       "      <th>1</th>\n",
       "      <td>1189811397271674885</td>\n",
       "      <td>#eminem + you’ll always be my hero even tho yo...</td>\n",
       "      <td>2019-10-31 07:48:37</td>\n",
       "      <td>0</td>\n",
       "      <td>TonninaGaukrog7</td>\n",
       "      <td>8</td>\n",
       "      <td></td>\n",
       "      <td>[{'text': 'eminem', 'indices': [0, 7]}]</td>\n",
       "    </tr>\n",
       "    <tr>\n",
       "      <th>2</th>\n",
       "      <td>1189810972241866752</td>\n",
       "      <td>SOLE COLLECTION 2006 Charity Nike Air 180 'Sha...</td>\n",
       "      <td>2019-10-31 07:46:56</td>\n",
       "      <td>0</td>\n",
       "      <td>untoldproof</td>\n",
       "      <td>26</td>\n",
       "      <td></td>\n",
       "      <td>[{'text': 'Eminem', 'indices': [54, 61]}]</td>\n",
       "    </tr>\n",
       "    <tr>\n",
       "      <th>3</th>\n",
       "      <td>1189809374585327616</td>\n",
       "      <td>RT @1awardsupdates: Updated awards of #Eminem\\...</td>\n",
       "      <td>2019-10-31 07:40:35</td>\n",
       "      <td>77</td>\n",
       "      <td>pedrosenna136</td>\n",
       "      <td>239</td>\n",
       "      <td>4425</td>\n",
       "      <td>[{'text': 'Eminem', 'indices': [38, 45]}]</td>\n",
       "    </tr>\n",
       "    <tr>\n",
       "      <th>4</th>\n",
       "      <td>1189809090404311042</td>\n",
       "      <td>RT @1awardsupdates: Updated awards of #Eminem\\...</td>\n",
       "      <td>2019-10-31 07:39:27</td>\n",
       "      <td>77</td>\n",
       "      <td>cherish__k</td>\n",
       "      <td>46</td>\n",
       "      <td>🇯🇵</td>\n",
       "      <td>[{'text': 'Eminem', 'indices': [38, 45]}]</td>\n",
       "    </tr>\n",
       "  </tbody>\n",
       "</table>\n",
       "</div>"
      ],
      "text/plain": [
       "                    id                                               text  \\\n",
       "0  1189813188751167488  grey leather base, white &amp; orange accents,...   \n",
       "1  1189811397271674885  #eminem + you’ll always be my hero even tho yo...   \n",
       "2  1189810972241866752  SOLE COLLECTION 2006 Charity Nike Air 180 'Sha...   \n",
       "3  1189809374585327616  RT @1awardsupdates: Updated awards of #Eminem\\...   \n",
       "4  1189809090404311042  RT @1awardsupdates: Updated awards of #Eminem\\...   \n",
       "\n",
       "           created_at  retweet_count user_screen_name  user_followers_count  \\\n",
       "0 2019-10-31 07:55:44              0      untoldproof                    26   \n",
       "1 2019-10-31 07:48:37              0  TonninaGaukrog7                     8   \n",
       "2 2019-10-31 07:46:56              0      untoldproof                    26   \n",
       "3 2019-10-31 07:40:35             77    pedrosenna136                   239   \n",
       "4 2019-10-31 07:39:27             77       cherish__k                    46   \n",
       "\n",
       "  user_location                                   Hashtags  \n",
       "0                                                       []  \n",
       "1                  [{'text': 'eminem', 'indices': [0, 7]}]  \n",
       "2                [{'text': 'Eminem', 'indices': [54, 61]}]  \n",
       "3          4425  [{'text': 'Eminem', 'indices': [38, 45]}]  \n",
       "4            🇯🇵  [{'text': 'Eminem', 'indices': [38, 45]}]  "
      ]
     },
     "execution_count": 8,
     "metadata": {},
     "output_type": "execute_result"
    }
   ],
   "source": [
    "# use the function to get dataframe of the tweet\n",
    "df = tweets_df(result)\n",
    "df.head()"
   ]
  },
  {
   "cell_type": "code",
   "execution_count": 9,
   "metadata": {
    "ExecuteTime": {
     "end_time": "2019-10-31T08:02:38.310739Z",
     "start_time": "2019-10-31T08:02:38.180721Z"
    }
   },
   "outputs": [],
   "source": [
    "#drop duplicate tweet \n",
    "g_unique = set()\n",
    "for item in df['text']:\n",
    "        g_unique.add(item) # ensures the element will only be copied if not already in the set\n",
    "tweet = []\n",
    "for item in g_unique:\n",
    "    tweet.append(item)\n",
    "    dataframe = pd.DataFrame(tweet,columns = ['text'])"
   ]
  },
  {
   "cell_type": "code",
   "execution_count": 10,
   "metadata": {
    "ExecuteTime": {
     "end_time": "2019-10-31T08:02:39.492809Z",
     "start_time": "2019-10-31T08:02:39.484034Z"
    }
   },
   "outputs": [
    {
     "data": {
      "text/plain": [
       "214"
      ]
     },
     "execution_count": 10,
     "metadata": {},
     "output_type": "execute_result"
    }
   ],
   "source": [
    "len(dataframe)"
   ]
  },
  {
   "cell_type": "markdown",
   "metadata": {},
   "source": [
    "## Getting dataset from UCI about spam comment at Eminem Youtube"
   ]
  },
  {
   "cell_type": "code",
   "execution_count": 12,
   "metadata": {
    "ExecuteTime": {
     "end_time": "2019-10-31T08:03:22.766624Z",
     "start_time": "2019-10-31T08:03:22.749934Z"
    }
   },
   "outputs": [],
   "source": [
    "data_youtube = pd.read_csv('Youtube04-Eminem.csv')"
   ]
  },
  {
   "cell_type": "code",
   "execution_count": 13,
   "metadata": {
    "ExecuteTime": {
     "end_time": "2019-10-31T08:03:35.178794Z",
     "start_time": "2019-10-31T08:03:35.165062Z"
    }
   },
   "outputs": [
    {
     "data": {
      "text/html": [
       "<div>\n",
       "<style scoped>\n",
       "    .dataframe tbody tr th:only-of-type {\n",
       "        vertical-align: middle;\n",
       "    }\n",
       "\n",
       "    .dataframe tbody tr th {\n",
       "        vertical-align: top;\n",
       "    }\n",
       "\n",
       "    .dataframe thead th {\n",
       "        text-align: right;\n",
       "    }\n",
       "</style>\n",
       "<table border=\"1\" class=\"dataframe\">\n",
       "  <thead>\n",
       "    <tr style=\"text-align: right;\">\n",
       "      <th></th>\n",
       "      <th>COMMENT_ID</th>\n",
       "      <th>AUTHOR</th>\n",
       "      <th>DATE</th>\n",
       "      <th>CONTENT</th>\n",
       "      <th>CLASS</th>\n",
       "    </tr>\n",
       "  </thead>\n",
       "  <tbody>\n",
       "    <tr>\n",
       "      <th>0</th>\n",
       "      <td>z12rwfnyyrbsefonb232i5ehdxzkjzjs2</td>\n",
       "      <td>Lisa Wellas</td>\n",
       "      <td>NaN</td>\n",
       "      <td>+447935454150 lovely girl talk to me xxx﻿</td>\n",
       "      <td>1</td>\n",
       "    </tr>\n",
       "    <tr>\n",
       "      <th>1</th>\n",
       "      <td>z130wpnwwnyuetxcn23xf5k5ynmkdpjrj04</td>\n",
       "      <td>jason graham</td>\n",
       "      <td>2015-05-29T02:26:10.652000</td>\n",
       "      <td>I always end up coming back to this song&lt;br /&gt;﻿</td>\n",
       "      <td>0</td>\n",
       "    </tr>\n",
       "    <tr>\n",
       "      <th>2</th>\n",
       "      <td>z13vsfqirtavjvu0t22ezrgzyorwxhpf3</td>\n",
       "      <td>Ajkal Khan</td>\n",
       "      <td>NaN</td>\n",
       "      <td>my sister just received over 6,500 new &lt;a rel=...</td>\n",
       "      <td>1</td>\n",
       "    </tr>\n",
       "    <tr>\n",
       "      <th>3</th>\n",
       "      <td>z12wjzc4eprnvja4304cgbbizuved35wxcs</td>\n",
       "      <td>Dakota Taylor</td>\n",
       "      <td>2015-05-29T02:13:07.810000</td>\n",
       "      <td>Cool﻿</td>\n",
       "      <td>0</td>\n",
       "    </tr>\n",
       "    <tr>\n",
       "      <th>4</th>\n",
       "      <td>z13xjfr42z3uxdz2223gx5rrzs3dt5hna</td>\n",
       "      <td>Jihad Naser</td>\n",
       "      <td>NaN</td>\n",
       "      <td>Hello I&amp;#39;am from Palastine﻿</td>\n",
       "      <td>1</td>\n",
       "    </tr>\n",
       "  </tbody>\n",
       "</table>\n",
       "</div>"
      ],
      "text/plain": [
       "                            COMMENT_ID         AUTHOR  \\\n",
       "0    z12rwfnyyrbsefonb232i5ehdxzkjzjs2    Lisa Wellas   \n",
       "1  z130wpnwwnyuetxcn23xf5k5ynmkdpjrj04   jason graham   \n",
       "2    z13vsfqirtavjvu0t22ezrgzyorwxhpf3     Ajkal Khan   \n",
       "3  z12wjzc4eprnvja4304cgbbizuved35wxcs  Dakota Taylor   \n",
       "4    z13xjfr42z3uxdz2223gx5rrzs3dt5hna    Jihad Naser   \n",
       "\n",
       "                         DATE  \\\n",
       "0                         NaN   \n",
       "1  2015-05-29T02:26:10.652000   \n",
       "2                         NaN   \n",
       "3  2015-05-29T02:13:07.810000   \n",
       "4                         NaN   \n",
       "\n",
       "                                             CONTENT  CLASS  \n",
       "0          +447935454150 lovely girl talk to me xxx﻿      1  \n",
       "1    I always end up coming back to this song<br />﻿      0  \n",
       "2  my sister just received over 6,500 new <a rel=...      1  \n",
       "3                                              Cool﻿      0  \n",
       "4                     Hello I&#39;am from Palastine﻿      1  "
      ]
     },
     "execution_count": 13,
     "metadata": {},
     "output_type": "execute_result"
    }
   ],
   "source": [
    "data_youtube.head()"
   ]
  },
  {
   "cell_type": "code",
   "execution_count": 44,
   "metadata": {
    "ExecuteTime": {
     "end_time": "2019-10-31T08:16:09.944103Z",
     "start_time": "2019-10-31T08:16:09.936869Z"
    }
   },
   "outputs": [
    {
     "data": {
      "text/plain": [
       "(448, 5)"
      ]
     },
     "execution_count": 44,
     "metadata": {},
     "output_type": "execute_result"
    }
   ],
   "source": [
    "data_youtube.shape"
   ]
  },
  {
   "cell_type": "markdown",
   "metadata": {},
   "source": [
    "# To the data that you’ve just got, do the pre-processing"
   ]
  },
  {
   "cell_type": "markdown",
   "metadata": {},
   "source": [
    "## Step B.1. Basic Text Pre-processing "
   ]
  },
  {
   "cell_type": "markdown",
   "metadata": {},
   "source": [
    "### 1. Lower casing"
   ]
  },
  {
   "cell_type": "code",
   "execution_count": 15,
   "metadata": {
    "ExecuteTime": {
     "end_time": "2019-10-31T08:04:05.776701Z",
     "start_time": "2019-10-31T08:04:05.762679Z"
    }
   },
   "outputs": [
    {
     "data": {
      "text/plain": [
       "0    rt @yrvun: rap god #eminem https://t.co/di6c5q...\n",
       "1    how you gonna breastfeed me mom you aint got n...\n",
       "2    i smoke a fat pound of grass and fall on my as...\n",
       "3    rt @elementau94: this music game a process, it...\n",
       "4    @gaytimesmag i'm coming for you #eminem https:...\n",
       "Name: text, dtype: object"
      ]
     },
     "execution_count": 15,
     "metadata": {},
     "output_type": "execute_result"
    }
   ],
   "source": [
    "dataframe['text'] = dataframe['text'].apply(lambda x: \" \".join(x.lower() for x in x.split()))\n",
    "dataframe['text'].head()"
   ]
  },
  {
   "cell_type": "markdown",
   "metadata": {},
   "source": [
    "### 2. Punctuation removal"
   ]
  },
  {
   "cell_type": "code",
   "execution_count": 16,
   "metadata": {
    "ExecuteTime": {
     "end_time": "2019-10-31T08:04:07.921028Z",
     "start_time": "2019-10-31T08:04:07.907302Z"
    }
   },
   "outputs": [
    {
     "data": {
      "text/html": [
       "<div>\n",
       "<style scoped>\n",
       "    .dataframe tbody tr th:only-of-type {\n",
       "        vertical-align: middle;\n",
       "    }\n",
       "\n",
       "    .dataframe tbody tr th {\n",
       "        vertical-align: top;\n",
       "    }\n",
       "\n",
       "    .dataframe thead th {\n",
       "        text-align: right;\n",
       "    }\n",
       "</style>\n",
       "<table border=\"1\" class=\"dataframe\">\n",
       "  <thead>\n",
       "    <tr style=\"text-align: right;\">\n",
       "      <th></th>\n",
       "      <th>text</th>\n",
       "    </tr>\n",
       "  </thead>\n",
       "  <tbody>\n",
       "    <tr>\n",
       "      <th>0</th>\n",
       "      <td>rt yrvun rap god eminem httpstcodi6c5qeksp</td>\n",
       "    </tr>\n",
       "    <tr>\n",
       "      <th>1</th>\n",
       "      <td>how you gonna breastfeed me mom you aint got n...</td>\n",
       "    </tr>\n",
       "    <tr>\n",
       "      <th>2</th>\n",
       "      <td>i smoke a fat pound of grass and fall on my as...</td>\n",
       "    </tr>\n",
       "    <tr>\n",
       "      <th>3</th>\n",
       "      <td>rt elementau94 this music game a process it ta...</td>\n",
       "    </tr>\n",
       "    <tr>\n",
       "      <th>4</th>\n",
       "      <td>gaytimesmag im coming for you eminem httpstco6...</td>\n",
       "    </tr>\n",
       "  </tbody>\n",
       "</table>\n",
       "</div>"
      ],
      "text/plain": [
       "                                                text\n",
       "0         rt yrvun rap god eminem httpstcodi6c5qeksp\n",
       "1  how you gonna breastfeed me mom you aint got n...\n",
       "2  i smoke a fat pound of grass and fall on my as...\n",
       "3  rt elementau94 this music game a process it ta...\n",
       "4  gaytimesmag im coming for you eminem httpstco6..."
      ]
     },
     "execution_count": 16,
     "metadata": {},
     "output_type": "execute_result"
    }
   ],
   "source": [
    "# pat1 = r'@[A-Za-z0-9_]+'\n",
    "# pat2 = r'https?://[^ ]+'\n",
    "# combined_pat = r'|'.join((pat1, pat2))\n",
    "# dataframe['text'] = dataframe['text'].str.replace(combined_pat,'')\n",
    "dataframe['text'] = dataframe['text'].str.replace('[^\\w\\s]','')\n",
    "dataframe.head()"
   ]
  },
  {
   "cell_type": "markdown",
   "metadata": {},
   "source": [
    "### 3. Stopwords removal"
   ]
  },
  {
   "cell_type": "code",
   "execution_count": 17,
   "metadata": {
    "ExecuteTime": {
     "end_time": "2019-10-31T08:04:10.394707Z",
     "start_time": "2019-10-31T08:04:10.370583Z"
    }
   },
   "outputs": [
    {
     "data": {
      "text/plain": [
       "0           rt yrvun rap god eminem httpstcodi6c5qeksp\n",
       "1            gonna breastfeed mom aint got tits eminem\n",
       "2    smoke fat pound grass fall ass faster fat bitc...\n",
       "3    rt elementau94 music game process takes time m...\n",
       "4      gaytimesmag im coming eminem httpstco6t9t2jdmwm\n",
       "5    eminems daughter hailie nails arianagrande hal...\n",
       "6    marshallmathers watched wanted get eminem http...\n",
       "7    new track featuring eminem released november 1...\n",
       "8    grey leather base white amp orange accents sub...\n",
       "9    rt new1027 see eminems daughter dressed ariana...\n",
       "Name: text, dtype: object"
      ]
     },
     "execution_count": 17,
     "metadata": {},
     "output_type": "execute_result"
    }
   ],
   "source": [
    "stop = stopwords.words('english')\n",
    "dataframe['text'] = dataframe['text'].apply(lambda x: \" \".join(x for x in x.split() if x not in stop))\n",
    "dataframe['text'].head(10)"
   ]
  },
  {
   "cell_type": "markdown",
   "metadata": {},
   "source": [
    "### 4. Frequent words removal"
   ]
  },
  {
   "cell_type": "code",
   "execution_count": 18,
   "metadata": {
    "ExecuteTime": {
     "end_time": "2019-10-31T08:04:12.917392Z",
     "start_time": "2019-10-31T08:04:12.903928Z"
    }
   },
   "outputs": [
    {
     "data": {
      "text/plain": [
       "eminem          172\n",
       "rt               72\n",
       "eminems          26\n",
       "daughter         17\n",
       "arianagrande     16\n",
       "new              16\n",
       "music            15\n",
       "hiphop           15\n",
       "halloween        13\n",
       "gay              12\n",
       "dtype: int64"
      ]
     },
     "execution_count": 18,
     "metadata": {},
     "output_type": "execute_result"
    }
   ],
   "source": [
    "freq = pd.Series(' '.join(dataframe['text']).split()).value_counts()[:10]\n",
    "freq"
   ]
  },
  {
   "cell_type": "code",
   "execution_count": 19,
   "metadata": {
    "ExecuteTime": {
     "end_time": "2019-10-31T08:04:15.327388Z",
     "start_time": "2019-10-31T08:04:15.318952Z"
    }
   },
   "outputs": [
    {
     "data": {
      "text/plain": [
       "0                     yrvun rap god httpstcodi6c5qeksp\n",
       "1                   gonna breastfeed mom aint got tits\n",
       "2    smoke fat pound grass fall ass faster fat bitc...\n",
       "3    elementau94 game process takes time make moves...\n",
       "4             gaytimesmag im coming httpstco6t9t2jdmwm\n",
       "Name: text, dtype: object"
      ]
     },
     "execution_count": 19,
     "metadata": {},
     "output_type": "execute_result"
    }
   ],
   "source": [
    "freq = list(freq.index)\n",
    "dataframe['text'] = dataframe['text'].apply(lambda x: \" \".join(x for x in x.split() if x not in freq))\n",
    "dataframe['text'].head()"
   ]
  },
  {
   "cell_type": "markdown",
   "metadata": {},
   "source": [
    "### 5. Rare words removal"
   ]
  },
  {
   "cell_type": "code",
   "execution_count": 20,
   "metadata": {
    "ExecuteTime": {
     "end_time": "2019-10-31T08:04:17.114360Z",
     "start_time": "2019-10-31T08:04:17.101188Z"
    }
   },
   "outputs": [
    {
     "data": {
      "text/plain": [
       "fkers                 1\n",
       "raise                 1\n",
       "httpstcovcyf6l78ce    1\n",
       "httpstcobpsedy7mgz    1\n",
       "header                1\n",
       "kamik                 1\n",
       "decade                1\n",
       "ppl                   1\n",
       "cute                  1\n",
       "childhoodcrush        1\n",
       "dtype: int64"
      ]
     },
     "execution_count": 20,
     "metadata": {},
     "output_type": "execute_result"
    }
   ],
   "source": [
    "rare_word = pd.Series(' '.join(dataframe['text']).split()).value_counts()[-10:]\n",
    "rare_word"
   ]
  },
  {
   "cell_type": "code",
   "execution_count": 21,
   "metadata": {
    "ExecuteTime": {
     "end_time": "2019-10-31T08:04:18.806416Z",
     "start_time": "2019-10-31T08:04:18.795339Z"
    }
   },
   "outputs": [
    {
     "data": {
      "text/plain": [
       "0                     yrvun rap god httpstcodi6c5qeksp\n",
       "1                   gonna breastfeed mom aint got tits\n",
       "2    smoke fat pound grass fall ass faster fat bitc...\n",
       "3    elementau94 game process takes time make moves...\n",
       "4             gaytimesmag im coming httpstco6t9t2jdmwm\n",
       "Name: text, dtype: object"
      ]
     },
     "execution_count": 21,
     "metadata": {},
     "output_type": "execute_result"
    }
   ],
   "source": [
    "rare_word = list(rare_word.index)\n",
    "dataframe['text'] = dataframe['text'].apply(lambda x: \" \".join(x for x in x.split() if x not in freq))\n",
    "dataframe['text'].head()"
   ]
  },
  {
   "cell_type": "markdown",
   "metadata": {},
   "source": [
    "### 6. Spelling correction"
   ]
  },
  {
   "cell_type": "code",
   "execution_count": 22,
   "metadata": {
    "ExecuteTime": {
     "end_time": "2019-10-31T08:07:50.508170Z",
     "start_time": "2019-10-31T08:07:44.576807Z"
    },
    "scrolled": true
   },
   "outputs": [
    {
     "data": {
      "text/plain": [
       "0                       run ran god httpstcodi6c5qeksp\n",
       "1                      donna breasted mon aunt got its\n",
       "2    smoke fat pound grass fall ass faster fat bitc...\n",
       "3    elementau94 game process takes time make moves...\n",
       "4             gaytimesmag in coming httpstco6t9t2jdmwm\n",
       "Name: text, dtype: object"
      ]
     },
     "execution_count": 22,
     "metadata": {},
     "output_type": "execute_result"
    }
   ],
   "source": [
    "dataframe['text'][:5].apply(lambda x: str(TextBlob(x).correct()))"
   ]
  },
  {
   "cell_type": "markdown",
   "metadata": {},
   "source": [
    "### 7. Tokenization"
   ]
  },
  {
   "cell_type": "code",
   "execution_count": 23,
   "metadata": {
    "ExecuteTime": {
     "end_time": "2019-10-31T08:07:50.532662Z",
     "start_time": "2019-10-31T08:07:50.511293Z"
    }
   },
   "outputs": [
    {
     "data": {
      "text/plain": [
       "WordList(['gon', 'na', 'breastfeed', 'mom', 'aint', 'got', 'tits'])"
      ]
     },
     "execution_count": 23,
     "metadata": {},
     "output_type": "execute_result"
    }
   ],
   "source": [
    "TextBlob(dataframe['text'][1]).words"
   ]
  },
  {
   "cell_type": "markdown",
   "metadata": {},
   "source": [
    "### 8. Stemming"
   ]
  },
  {
   "cell_type": "code",
   "execution_count": 24,
   "metadata": {
    "ExecuteTime": {
     "end_time": "2019-10-31T08:07:50.608860Z",
     "start_time": "2019-10-31T08:07:50.535354Z"
    }
   },
   "outputs": [],
   "source": [
    "st = PorterStemmer()\n",
    "dataframe['text'] = dataframe['text'][:].apply(lambda x: \" \".join([st.stem(word) for word in x.split()]))"
   ]
  },
  {
   "cell_type": "code",
   "execution_count": 25,
   "metadata": {
    "ExecuteTime": {
     "end_time": "2019-10-31T08:07:50.624729Z",
     "start_time": "2019-10-31T08:07:50.610908Z"
    }
   },
   "outputs": [
    {
     "data": {
      "text/html": [
       "<div>\n",
       "<style scoped>\n",
       "    .dataframe tbody tr th:only-of-type {\n",
       "        vertical-align: middle;\n",
       "    }\n",
       "\n",
       "    .dataframe tbody tr th {\n",
       "        vertical-align: top;\n",
       "    }\n",
       "\n",
       "    .dataframe thead th {\n",
       "        text-align: right;\n",
       "    }\n",
       "</style>\n",
       "<table border=\"1\" class=\"dataframe\">\n",
       "  <thead>\n",
       "    <tr style=\"text-align: right;\">\n",
       "      <th></th>\n",
       "      <th>text</th>\n",
       "    </tr>\n",
       "  </thead>\n",
       "  <tbody>\n",
       "    <tr>\n",
       "      <th>0</th>\n",
       "      <td>yrvun rap god httpstcodi6c5qeksp</td>\n",
       "    </tr>\n",
       "    <tr>\n",
       "      <th>1</th>\n",
       "      <td>gonna breastfe mom aint got tit</td>\n",
       "    </tr>\n",
       "    <tr>\n",
       "      <th>2</th>\n",
       "      <td>smoke fat pound grass fall ass faster fat bitc...</td>\n",
       "    </tr>\n",
       "    <tr>\n",
       "      <th>3</th>\n",
       "      <td>elementau94 game process take time make move p...</td>\n",
       "    </tr>\n",
       "    <tr>\n",
       "      <th>4</th>\n",
       "      <td>gaytimesmag im come httpstco6t9t2jdmwm</td>\n",
       "    </tr>\n",
       "  </tbody>\n",
       "</table>\n",
       "</div>"
      ],
      "text/plain": [
       "                                                text\n",
       "0                   yrvun rap god httpstcodi6c5qeksp\n",
       "1                    gonna breastfe mom aint got tit\n",
       "2  smoke fat pound grass fall ass faster fat bitc...\n",
       "3  elementau94 game process take time make move p...\n",
       "4             gaytimesmag im come httpstco6t9t2jdmwm"
      ]
     },
     "execution_count": 25,
     "metadata": {},
     "output_type": "execute_result"
    }
   ],
   "source": [
    "dataframe.head()"
   ]
  },
  {
   "cell_type": "markdown",
   "metadata": {},
   "source": [
    "### 9. Lematization"
   ]
  },
  {
   "cell_type": "code",
   "execution_count": 26,
   "metadata": {
    "ExecuteTime": {
     "end_time": "2019-10-31T08:07:55.046783Z",
     "start_time": "2019-10-31T08:07:53.000048Z"
    }
   },
   "outputs": [
    {
     "data": {
      "text/plain": [
       "0                     yrvun rap god httpstcodi6c5qeksp\n",
       "1                      gonna breastfe mom aint got tit\n",
       "2    smoke fat pound grass fall as faster fat bitch...\n",
       "3    elementau94 game process take time make move p...\n",
       "4               gaytimesmag im come httpstco6t9t2jdmwm\n",
       "Name: text, dtype: object"
      ]
     },
     "execution_count": 26,
     "metadata": {},
     "output_type": "execute_result"
    }
   ],
   "source": [
    "from textblob import Word\n",
    "dataframe['text'] = dataframe['text'].apply(lambda x: \" \".join([Word(word).lemmatize() for word in x.split()]))\n",
    "dataframe['text'].head()"
   ]
  },
  {
   "cell_type": "code",
   "execution_count": 27,
   "metadata": {
    "ExecuteTime": {
     "end_time": "2019-10-31T08:07:55.059536Z",
     "start_time": "2019-10-31T08:07:55.049267Z"
    }
   },
   "outputs": [
    {
     "data": {
      "text/html": [
       "<div>\n",
       "<style scoped>\n",
       "    .dataframe tbody tr th:only-of-type {\n",
       "        vertical-align: middle;\n",
       "    }\n",
       "\n",
       "    .dataframe tbody tr th {\n",
       "        vertical-align: top;\n",
       "    }\n",
       "\n",
       "    .dataframe thead th {\n",
       "        text-align: right;\n",
       "    }\n",
       "</style>\n",
       "<table border=\"1\" class=\"dataframe\">\n",
       "  <thead>\n",
       "    <tr style=\"text-align: right;\">\n",
       "      <th></th>\n",
       "      <th>text</th>\n",
       "    </tr>\n",
       "  </thead>\n",
       "  <tbody>\n",
       "    <tr>\n",
       "      <th>0</th>\n",
       "      <td>yrvun rap god httpstcodi6c5qeksp</td>\n",
       "    </tr>\n",
       "    <tr>\n",
       "      <th>1</th>\n",
       "      <td>gonna breastfe mom aint got tit</td>\n",
       "    </tr>\n",
       "    <tr>\n",
       "      <th>2</th>\n",
       "      <td>smoke fat pound grass fall as faster fat bitch...</td>\n",
       "    </tr>\n",
       "    <tr>\n",
       "      <th>3</th>\n",
       "      <td>elementau94 game process take time make move p...</td>\n",
       "    </tr>\n",
       "    <tr>\n",
       "      <th>4</th>\n",
       "      <td>gaytimesmag im come httpstco6t9t2jdmwm</td>\n",
       "    </tr>\n",
       "  </tbody>\n",
       "</table>\n",
       "</div>"
      ],
      "text/plain": [
       "                                                text\n",
       "0                   yrvun rap god httpstcodi6c5qeksp\n",
       "1                    gonna breastfe mom aint got tit\n",
       "2  smoke fat pound grass fall as faster fat bitch...\n",
       "3  elementau94 game process take time make move p...\n",
       "4             gaytimesmag im come httpstco6t9t2jdmwm"
      ]
     },
     "execution_count": 27,
     "metadata": {},
     "output_type": "execute_result"
    }
   ],
   "source": [
    "dataframe.head()"
   ]
  },
  {
   "cell_type": "markdown",
   "metadata": {},
   "source": [
    "## Step C.1. Basic feature extraction "
   ]
  },
  {
   "cell_type": "markdown",
   "metadata": {},
   "source": [
    "### 1. Number of words"
   ]
  },
  {
   "cell_type": "code",
   "execution_count": 28,
   "metadata": {
    "ExecuteTime": {
     "end_time": "2019-10-31T08:08:23.386375Z",
     "start_time": "2019-10-31T08:08:23.369405Z"
    }
   },
   "outputs": [
    {
     "data": {
      "text/html": [
       "<div>\n",
       "<style scoped>\n",
       "    .dataframe tbody tr th:only-of-type {\n",
       "        vertical-align: middle;\n",
       "    }\n",
       "\n",
       "    .dataframe tbody tr th {\n",
       "        vertical-align: top;\n",
       "    }\n",
       "\n",
       "    .dataframe thead th {\n",
       "        text-align: right;\n",
       "    }\n",
       "</style>\n",
       "<table border=\"1\" class=\"dataframe\">\n",
       "  <thead>\n",
       "    <tr style=\"text-align: right;\">\n",
       "      <th></th>\n",
       "      <th>text</th>\n",
       "      <th>word_count</th>\n",
       "    </tr>\n",
       "  </thead>\n",
       "  <tbody>\n",
       "    <tr>\n",
       "      <th>0</th>\n",
       "      <td>yrvun rap god httpstcodi6c5qeksp</td>\n",
       "      <td>4</td>\n",
       "    </tr>\n",
       "    <tr>\n",
       "      <th>1</th>\n",
       "      <td>gonna breastfe mom aint got tit</td>\n",
       "      <td>6</td>\n",
       "    </tr>\n",
       "    <tr>\n",
       "      <th>2</th>\n",
       "      <td>smoke fat pound grass fall as faster fat bitch...</td>\n",
       "      <td>12</td>\n",
       "    </tr>\n",
       "    <tr>\n",
       "      <th>3</th>\n",
       "      <td>elementau94 game process take time make move p...</td>\n",
       "      <td>12</td>\n",
       "    </tr>\n",
       "    <tr>\n",
       "      <th>4</th>\n",
       "      <td>gaytimesmag im come httpstco6t9t2jdmwm</td>\n",
       "      <td>4</td>\n",
       "    </tr>\n",
       "  </tbody>\n",
       "</table>\n",
       "</div>"
      ],
      "text/plain": [
       "                                                text  word_count\n",
       "0                   yrvun rap god httpstcodi6c5qeksp           4\n",
       "1                    gonna breastfe mom aint got tit           6\n",
       "2  smoke fat pound grass fall as faster fat bitch...          12\n",
       "3  elementau94 game process take time make move p...          12\n",
       "4             gaytimesmag im come httpstco6t9t2jdmwm           4"
      ]
     },
     "execution_count": 28,
     "metadata": {},
     "output_type": "execute_result"
    }
   ],
   "source": [
    "dataframe['word_count'] = dataframe['text'].apply(lambda x: len(str(x).split(\" \")))\n",
    "dataframe.head()"
   ]
  },
  {
   "cell_type": "markdown",
   "metadata": {},
   "source": [
    "### 2. Number of characters"
   ]
  },
  {
   "cell_type": "code",
   "execution_count": 29,
   "metadata": {
    "ExecuteTime": {
     "end_time": "2019-10-31T08:08:25.435456Z",
     "start_time": "2019-10-31T08:08:25.421732Z"
    }
   },
   "outputs": [
    {
     "data": {
      "text/html": [
       "<div>\n",
       "<style scoped>\n",
       "    .dataframe tbody tr th:only-of-type {\n",
       "        vertical-align: middle;\n",
       "    }\n",
       "\n",
       "    .dataframe tbody tr th {\n",
       "        vertical-align: top;\n",
       "    }\n",
       "\n",
       "    .dataframe thead th {\n",
       "        text-align: right;\n",
       "    }\n",
       "</style>\n",
       "<table border=\"1\" class=\"dataframe\">\n",
       "  <thead>\n",
       "    <tr style=\"text-align: right;\">\n",
       "      <th></th>\n",
       "      <th>text</th>\n",
       "      <th>word_count</th>\n",
       "      <th>char_count</th>\n",
       "    </tr>\n",
       "  </thead>\n",
       "  <tbody>\n",
       "    <tr>\n",
       "      <th>0</th>\n",
       "      <td>yrvun rap god httpstcodi6c5qeksp</td>\n",
       "      <td>4</td>\n",
       "      <td>32</td>\n",
       "    </tr>\n",
       "    <tr>\n",
       "      <th>1</th>\n",
       "      <td>gonna breastfe mom aint got tit</td>\n",
       "      <td>6</td>\n",
       "      <td>31</td>\n",
       "    </tr>\n",
       "    <tr>\n",
       "      <th>2</th>\n",
       "      <td>smoke fat pound grass fall as faster fat bitch...</td>\n",
       "      <td>12</td>\n",
       "      <td>65</td>\n",
       "    </tr>\n",
       "    <tr>\n",
       "      <th>3</th>\n",
       "      <td>elementau94 game process take time make move p...</td>\n",
       "      <td>12</td>\n",
       "      <td>88</td>\n",
       "    </tr>\n",
       "    <tr>\n",
       "      <th>4</th>\n",
       "      <td>gaytimesmag im come httpstco6t9t2jdmwm</td>\n",
       "      <td>4</td>\n",
       "      <td>38</td>\n",
       "    </tr>\n",
       "  </tbody>\n",
       "</table>\n",
       "</div>"
      ],
      "text/plain": [
       "                                                text  word_count  char_count\n",
       "0                   yrvun rap god httpstcodi6c5qeksp           4          32\n",
       "1                    gonna breastfe mom aint got tit           6          31\n",
       "2  smoke fat pound grass fall as faster fat bitch...          12          65\n",
       "3  elementau94 game process take time make move p...          12          88\n",
       "4             gaytimesmag im come httpstco6t9t2jdmwm           4          38"
      ]
     },
     "execution_count": 29,
     "metadata": {},
     "output_type": "execute_result"
    }
   ],
   "source": [
    "dataframe['char_count'] = dataframe['text'].str.len()\n",
    "dataframe.head()"
   ]
  },
  {
   "cell_type": "markdown",
   "metadata": {},
   "source": [
    "### 3. Number of stopwords"
   ]
  },
  {
   "cell_type": "code",
   "execution_count": 30,
   "metadata": {
    "ExecuteTime": {
     "end_time": "2019-10-31T08:08:27.304971Z",
     "start_time": "2019-10-31T08:08:27.276982Z"
    }
   },
   "outputs": [
    {
     "data": {
      "text/html": [
       "<div>\n",
       "<style scoped>\n",
       "    .dataframe tbody tr th:only-of-type {\n",
       "        vertical-align: middle;\n",
       "    }\n",
       "\n",
       "    .dataframe tbody tr th {\n",
       "        vertical-align: top;\n",
       "    }\n",
       "\n",
       "    .dataframe thead th {\n",
       "        text-align: right;\n",
       "    }\n",
       "</style>\n",
       "<table border=\"1\" class=\"dataframe\">\n",
       "  <thead>\n",
       "    <tr style=\"text-align: right;\">\n",
       "      <th></th>\n",
       "      <th>text</th>\n",
       "      <th>word_count</th>\n",
       "      <th>char_count</th>\n",
       "      <th>stopwords</th>\n",
       "    </tr>\n",
       "  </thead>\n",
       "  <tbody>\n",
       "    <tr>\n",
       "      <th>0</th>\n",
       "      <td>yrvun rap god httpstcodi6c5qeksp</td>\n",
       "      <td>4</td>\n",
       "      <td>32</td>\n",
       "      <td>0</td>\n",
       "    </tr>\n",
       "    <tr>\n",
       "      <th>1</th>\n",
       "      <td>gonna breastfe mom aint got tit</td>\n",
       "      <td>6</td>\n",
       "      <td>31</td>\n",
       "      <td>0</td>\n",
       "    </tr>\n",
       "    <tr>\n",
       "      <th>2</th>\n",
       "      <td>smoke fat pound grass fall as faster fat bitch...</td>\n",
       "      <td>12</td>\n",
       "      <td>65</td>\n",
       "      <td>1</td>\n",
       "    </tr>\n",
       "    <tr>\n",
       "      <th>3</th>\n",
       "      <td>elementau94 game process take time make move p...</td>\n",
       "      <td>12</td>\n",
       "      <td>88</td>\n",
       "      <td>0</td>\n",
       "    </tr>\n",
       "    <tr>\n",
       "      <th>4</th>\n",
       "      <td>gaytimesmag im come httpstco6t9t2jdmwm</td>\n",
       "      <td>4</td>\n",
       "      <td>38</td>\n",
       "      <td>0</td>\n",
       "    </tr>\n",
       "  </tbody>\n",
       "</table>\n",
       "</div>"
      ],
      "text/plain": [
       "                                                text  word_count  char_count  \\\n",
       "0                   yrvun rap god httpstcodi6c5qeksp           4          32   \n",
       "1                    gonna breastfe mom aint got tit           6          31   \n",
       "2  smoke fat pound grass fall as faster fat bitch...          12          65   \n",
       "3  elementau94 game process take time make move p...          12          88   \n",
       "4             gaytimesmag im come httpstco6t9t2jdmwm           4          38   \n",
       "\n",
       "   stopwords  \n",
       "0          0  \n",
       "1          0  \n",
       "2          1  \n",
       "3          0  \n",
       "4          0  "
      ]
     },
     "execution_count": 30,
     "metadata": {},
     "output_type": "execute_result"
    }
   ],
   "source": [
    "stop = stopwords.words('english')\n",
    "dataframe['stopwords'] = dataframe['text'].apply(lambda x: len([x for x in x.split() if x in stop]))\n",
    "dataframe.head()"
   ]
  },
  {
   "cell_type": "markdown",
   "metadata": {},
   "source": [
    "### 3. Number of special characters"
   ]
  },
  {
   "cell_type": "code",
   "execution_count": 31,
   "metadata": {
    "ExecuteTime": {
     "end_time": "2019-10-31T08:08:28.113677Z",
     "start_time": "2019-10-31T08:08:28.099006Z"
    }
   },
   "outputs": [
    {
     "data": {
      "text/html": [
       "<div>\n",
       "<style scoped>\n",
       "    .dataframe tbody tr th:only-of-type {\n",
       "        vertical-align: middle;\n",
       "    }\n",
       "\n",
       "    .dataframe tbody tr th {\n",
       "        vertical-align: top;\n",
       "    }\n",
       "\n",
       "    .dataframe thead th {\n",
       "        text-align: right;\n",
       "    }\n",
       "</style>\n",
       "<table border=\"1\" class=\"dataframe\">\n",
       "  <thead>\n",
       "    <tr style=\"text-align: right;\">\n",
       "      <th></th>\n",
       "      <th>text</th>\n",
       "      <th>word_count</th>\n",
       "      <th>char_count</th>\n",
       "      <th>stopwords</th>\n",
       "      <th>hastags</th>\n",
       "    </tr>\n",
       "  </thead>\n",
       "  <tbody>\n",
       "    <tr>\n",
       "      <th>0</th>\n",
       "      <td>yrvun rap god httpstcodi6c5qeksp</td>\n",
       "      <td>4</td>\n",
       "      <td>32</td>\n",
       "      <td>0</td>\n",
       "      <td>0</td>\n",
       "    </tr>\n",
       "    <tr>\n",
       "      <th>1</th>\n",
       "      <td>gonna breastfe mom aint got tit</td>\n",
       "      <td>6</td>\n",
       "      <td>31</td>\n",
       "      <td>0</td>\n",
       "      <td>0</td>\n",
       "    </tr>\n",
       "    <tr>\n",
       "      <th>2</th>\n",
       "      <td>smoke fat pound grass fall as faster fat bitch...</td>\n",
       "      <td>12</td>\n",
       "      <td>65</td>\n",
       "      <td>1</td>\n",
       "      <td>0</td>\n",
       "    </tr>\n",
       "    <tr>\n",
       "      <th>3</th>\n",
       "      <td>elementau94 game process take time make move p...</td>\n",
       "      <td>12</td>\n",
       "      <td>88</td>\n",
       "      <td>0</td>\n",
       "      <td>0</td>\n",
       "    </tr>\n",
       "    <tr>\n",
       "      <th>4</th>\n",
       "      <td>gaytimesmag im come httpstco6t9t2jdmwm</td>\n",
       "      <td>4</td>\n",
       "      <td>38</td>\n",
       "      <td>0</td>\n",
       "      <td>0</td>\n",
       "    </tr>\n",
       "  </tbody>\n",
       "</table>\n",
       "</div>"
      ],
      "text/plain": [
       "                                                text  word_count  char_count  \\\n",
       "0                   yrvun rap god httpstcodi6c5qeksp           4          32   \n",
       "1                    gonna breastfe mom aint got tit           6          31   \n",
       "2  smoke fat pound grass fall as faster fat bitch...          12          65   \n",
       "3  elementau94 game process take time make move p...          12          88   \n",
       "4             gaytimesmag im come httpstco6t9t2jdmwm           4          38   \n",
       "\n",
       "   stopwords  hastags  \n",
       "0          0        0  \n",
       "1          0        0  \n",
       "2          1        0  \n",
       "3          0        0  \n",
       "4          0        0  "
      ]
     },
     "execution_count": 31,
     "metadata": {},
     "output_type": "execute_result"
    }
   ],
   "source": [
    "dataframe['hastags'] = dataframe['text'].apply(lambda x: len([x for x in x.split() if x.startswith('#')]))\n",
    "dataframe.head()"
   ]
  },
  {
   "cell_type": "markdown",
   "metadata": {},
   "source": [
    "## Labeling Using Polarity (Textblob)"
   ]
  },
  {
   "cell_type": "markdown",
   "metadata": {},
   "source": [
    "### 1. New Dataframe"
   ]
  },
  {
   "cell_type": "code",
   "execution_count": 32,
   "metadata": {
    "ExecuteTime": {
     "end_time": "2019-10-31T08:08:45.034601Z",
     "start_time": "2019-10-31T08:08:45.029768Z"
    }
   },
   "outputs": [],
   "source": [
    "#new df after removed duplicate text\n",
    "new_df = dataframe\n",
    "new_df.head()\n",
    "\n",
    "#sentiment labeling \n",
    "text = new_df.text"
   ]
  },
  {
   "cell_type": "markdown",
   "metadata": {},
   "source": [
    "### 2. Labeling "
   ]
  },
  {
   "cell_type": "code",
   "execution_count": 33,
   "metadata": {
    "ExecuteTime": {
     "end_time": "2019-10-31T08:08:46.430244Z",
     "start_time": "2019-10-31T08:08:46.272291Z"
    }
   },
   "outputs": [
    {
     "name": "stderr",
     "output_type": "stream",
     "text": [
      "//anaconda3/lib/python3.7/site-packages/ipykernel_launcher.py:5: FutureWarning: set_value is deprecated and will be removed in a future release. Please use .at[] or .iat[] accessors instead\n",
      "  \"\"\"\n",
      "//anaconda3/lib/python3.7/site-packages/ipykernel_launcher.py:14: FutureWarning: set_value is deprecated and will be removed in a future release. Please use .at[] or .iat[] accessors instead\n",
      "  \n",
      "//anaconda3/lib/python3.7/site-packages/ipykernel_launcher.py:11: FutureWarning: set_value is deprecated and will be removed in a future release. Please use .at[] or .iat[] accessors instead\n",
      "  # This is added back by InteractiveShellApp.init_path()\n",
      "//anaconda3/lib/python3.7/site-packages/ipykernel_launcher.py:8: FutureWarning: set_value is deprecated and will be removed in a future release. Please use .at[] or .iat[] accessors instead\n",
      "  \n"
     ]
    }
   ],
   "source": [
    "#looping \n",
    "for i in range(0,len(text)):\n",
    "    textB = TextBlob(text[i])\n",
    "    sentiment = textB.sentiment.polarity\n",
    "    new_df.set_value(i,'sentiment', sentiment)\n",
    "    if sentiment < 0.00 :\n",
    "        sentimentclass = 'Negative'\n",
    "        new_df.set_value(i, 'sentimentclass', sentimentclass)\n",
    "    elif sentiment > 0.00 :\n",
    "        sentimentclass = 'Positive'\n",
    "        new_df.set_value(i, 'sentimentclass', sentimentclass)\n",
    "    else :\n",
    "        sentimentclass = ' Netral'\n",
    "        new_df.set_value(i, 'sentimentclass', sentimentclass)"
   ]
  },
  {
   "cell_type": "code",
   "execution_count": 34,
   "metadata": {
    "ExecuteTime": {
     "end_time": "2019-10-31T08:08:48.423836Z",
     "start_time": "2019-10-31T08:08:48.413217Z"
    },
    "scrolled": true
   },
   "outputs": [],
   "source": [
    "new_df = new_df[['text','sentiment','sentimentclass']]"
   ]
  },
  {
   "cell_type": "code",
   "execution_count": 35,
   "metadata": {
    "ExecuteTime": {
     "end_time": "2019-10-31T08:08:49.291478Z",
     "start_time": "2019-10-31T08:08:49.266405Z"
    },
    "scrolled": true
   },
   "outputs": [
    {
     "data": {
      "text/html": [
       "<div>\n",
       "<style scoped>\n",
       "    .dataframe tbody tr th:only-of-type {\n",
       "        vertical-align: middle;\n",
       "    }\n",
       "\n",
       "    .dataframe tbody tr th {\n",
       "        vertical-align: top;\n",
       "    }\n",
       "\n",
       "    .dataframe thead th {\n",
       "        text-align: right;\n",
       "    }\n",
       "</style>\n",
       "<table border=\"1\" class=\"dataframe\">\n",
       "  <thead>\n",
       "    <tr style=\"text-align: right;\">\n",
       "      <th></th>\n",
       "      <th>text</th>\n",
       "      <th>sentiment</th>\n",
       "      <th>sentimentclass</th>\n",
       "    </tr>\n",
       "  </thead>\n",
       "  <tbody>\n",
       "    <tr>\n",
       "      <th>0</th>\n",
       "      <td>yrvun rap god httpstcodi6c5qeksp</td>\n",
       "      <td>0.000000</td>\n",
       "      <td>Netral</td>\n",
       "    </tr>\n",
       "    <tr>\n",
       "      <th>1</th>\n",
       "      <td>gonna breastfe mom aint got tit</td>\n",
       "      <td>0.000000</td>\n",
       "      <td>Netral</td>\n",
       "    </tr>\n",
       "    <tr>\n",
       "      <th>2</th>\n",
       "      <td>smoke fat pound grass fall as faster fat bitch...</td>\n",
       "      <td>0.200000</td>\n",
       "      <td>Positive</td>\n",
       "    </tr>\n",
       "    <tr>\n",
       "      <th>3</th>\n",
       "      <td>elementau94 game process take time make move p...</td>\n",
       "      <td>-0.400000</td>\n",
       "      <td>Negative</td>\n",
       "    </tr>\n",
       "    <tr>\n",
       "      <th>4</th>\n",
       "      <td>gaytimesmag im come httpstco6t9t2jdmwm</td>\n",
       "      <td>0.000000</td>\n",
       "      <td>Netral</td>\n",
       "    </tr>\n",
       "    <tr>\n",
       "      <th>5</th>\n",
       "      <td>haili nail costum httpstcovdsqm2s6pz</td>\n",
       "      <td>0.000000</td>\n",
       "      <td>Netral</td>\n",
       "    </tr>\n",
       "    <tr>\n",
       "      <th>6</th>\n",
       "      <td>marshallmath watch want get httpstcoe1iwfzq0ob</td>\n",
       "      <td>0.000000</td>\n",
       "      <td>Netral</td>\n",
       "    </tr>\n",
       "    <tr>\n",
       "      <th>7</th>\n",
       "      <td>track featur releas novemb 12th bizarresworld ...</td>\n",
       "      <td>0.000000</td>\n",
       "      <td>Netral</td>\n",
       "    </tr>\n",
       "    <tr>\n",
       "      <th>8</th>\n",
       "      <td>grey leather base white amp orang accent subtl...</td>\n",
       "      <td>-0.283333</td>\n",
       "      <td>Negative</td>\n",
       "    </tr>\n",
       "    <tr>\n",
       "      <th>9</th>\n",
       "      <td>new1027 see dress year httpstco6cqpjb7qyp</td>\n",
       "      <td>0.000000</td>\n",
       "      <td>Netral</td>\n",
       "    </tr>\n",
       "    <tr>\n",
       "      <th>10</th>\n",
       "      <td>onthisdateinhiphop slightli yesterday soundtra...</td>\n",
       "      <td>0.000000</td>\n",
       "      <td>Netral</td>\n",
       "    </tr>\n",
       "    <tr>\n",
       "      <th>11</th>\n",
       "      <td>groundhog dayreact check video sub dig shit gr...</td>\n",
       "      <td>-0.200000</td>\n",
       "      <td>Negative</td>\n",
       "    </tr>\n",
       "    <tr>\n",
       "      <th>12</th>\n",
       "      <td>wont speak platform chang live luv mob amp rea...</td>\n",
       "      <td>-0.031818</td>\n",
       "      <td>Negative</td>\n",
       "    </tr>\n",
       "    <tr>\n",
       "      <th>13</th>\n",
       "      <td>mr porter dream fuckin nobodi suck rap woke kn...</td>\n",
       "      <td>0.000000</td>\n",
       "      <td>Netral</td>\n",
       "    </tr>\n",
       "    <tr>\n",
       "      <th>14</th>\n",
       "      <td>isnt he tri stay relev</td>\n",
       "      <td>0.000000</td>\n",
       "      <td>Netral</td>\n",
       "    </tr>\n",
       "    <tr>\n",
       "      <th>15</th>\n",
       "      <td>eminem_pro superson speed vers show abu dhabi ...</td>\n",
       "      <td>1.000000</td>\n",
       "      <td>Positive</td>\n",
       "    </tr>\n",
       "    <tr>\n",
       "      <th>16</th>\n",
       "      <td>_melly_cr7 mother fker talkin crazi say quit f...</td>\n",
       "      <td>0.000000</td>\n",
       "      <td>Netral</td>\n",
       "    </tr>\n",
       "    <tr>\n",
       "      <th>17</th>\n",
       "      <td>instinctmag leak track featur ask httpstcojq9b...</td>\n",
       "      <td>0.000000</td>\n",
       "      <td>Netral</td>\n",
       "    </tr>\n",
       "    <tr>\n",
       "      <th>18</th>\n",
       "      <td>post taken week 500 album time countdown 457 r...</td>\n",
       "      <td>0.000000</td>\n",
       "      <td>Netral</td>\n",
       "    </tr>\n",
       "    <tr>\n",
       "      <th>19</th>\n",
       "      <td>amp sever nike retail locat across globe chari...</td>\n",
       "      <td>0.000000</td>\n",
       "      <td>Netral</td>\n",
       "    </tr>\n",
       "    <tr>\n",
       "      <th>20</th>\n",
       "      <td>arlbyun honestli biggest inspir sehun sunbaenim</td>\n",
       "      <td>0.000000</td>\n",
       "      <td>Netral</td>\n",
       "    </tr>\n",
       "    <tr>\n",
       "      <th>21</th>\n",
       "      <td>choi_bts2 bts_twt need governorsballnyc 2020 h...</td>\n",
       "      <td>0.000000</td>\n",
       "      <td>Netral</td>\n",
       "    </tr>\n",
       "    <tr>\n",
       "      <th>22</th>\n",
       "      <td>ariana grand enchant disguis httpstco7i61xlaw2...</td>\n",
       "      <td>0.500000</td>\n",
       "      <td>Positive</td>\n",
       "    </tr>\n",
       "    <tr>\n",
       "      <th>23</th>\n",
       "      <td>carhart httpstcoystigeepfh</td>\n",
       "      <td>0.000000</td>\n",
       "      <td>Netral</td>\n",
       "    </tr>\n",
       "    <tr>\n",
       "      <th>24</th>\n",
       "      <td>night america prod jasari somebodi give pusha_...</td>\n",
       "      <td>0.000000</td>\n",
       "      <td>Netral</td>\n",
       "    </tr>\n",
       "    <tr>\n",
       "      <th>25</th>\n",
       "      <td>xperimentalbtz made month ago someth differ ki...</td>\n",
       "      <td>0.000000</td>\n",
       "      <td>Netral</td>\n",
       "    </tr>\n",
       "    <tr>\n",
       "      <th>26</th>\n",
       "      <td>remak put youtub drdre httpstcoprs8jaxpqc</td>\n",
       "      <td>0.000000</td>\n",
       "      <td>Netral</td>\n",
       "    </tr>\n",
       "    <tr>\n",
       "      <th>27</th>\n",
       "      <td>1027kiisfm react dress arian httpstcoba</td>\n",
       "      <td>0.000000</td>\n",
       "      <td>Netral</td>\n",
       "    </tr>\n",
       "    <tr>\n",
       "      <th>28</th>\n",
       "      <td>333askanangel abudhabi enjoy coffe eminemabudh...</td>\n",
       "      <td>0.400000</td>\n",
       "      <td>Positive</td>\n",
       "    </tr>\n",
       "    <tr>\n",
       "      <th>29</th>\n",
       "      <td>ganztotti cant wait read evolut goat httpstco9...</td>\n",
       "      <td>0.000000</td>\n",
       "      <td>Netral</td>\n",
       "    </tr>\n",
       "    <tr>\n",
       "      <th>...</th>\n",
       "      <td>...</td>\n",
       "      <td>...</td>\n",
       "      <td>...</td>\n",
       "    </tr>\n",
       "    <tr>\n",
       "      <th>184</th>\n",
       "      <td>woahvicki mop floor bhadbhabi thestarreport tr...</td>\n",
       "      <td>0.000000</td>\n",
       "      <td>Netral</td>\n",
       "    </tr>\n",
       "    <tr>\n",
       "      <th>185</th>\n",
       "      <td>slimshadi stan stan hey em drop drop merch</td>\n",
       "      <td>0.000000</td>\n",
       "      <td>Netral</td>\n",
       "    </tr>\n",
       "    <tr>\n",
       "      <th>186</th>\n",
       "      <td>wow what gossip man sudden peopl screenshottin...</td>\n",
       "      <td>0.050000</td>\n",
       "      <td>Positive</td>\n",
       "    </tr>\n",
       "    <tr>\n",
       "      <th>187</th>\n",
       "      <td>italia_eminem oh btw marshal still gorgeoussex...</td>\n",
       "      <td>0.000000</td>\n",
       "      <td>Netral</td>\n",
       "    </tr>\n",
       "    <tr>\n",
       "      <th>188</th>\n",
       "      <td>abdullah_basri king god eminemabudhabi httpstc...</td>\n",
       "      <td>0.000000</td>\n",
       "      <td>Netral</td>\n",
       "    </tr>\n",
       "    <tr>\n",
       "      <th>189</th>\n",
       "      <td>mfw heard joynerluca leak httpstcotoa3yi8zq1</td>\n",
       "      <td>0.000000</td>\n",
       "      <td>Netral</td>\n",
       "    </tr>\n",
       "    <tr>\n",
       "      <th>190</th>\n",
       "      <td>announc merch drop httpstcog1qn6rx6kz</td>\n",
       "      <td>0.000000</td>\n",
       "      <td>Netral</td>\n",
       "    </tr>\n",
       "    <tr>\n",
       "      <th>191</th>\n",
       "      <td>ray parker jr amp raydio featur nicki minaj fe...</td>\n",
       "      <td>0.000000</td>\n",
       "      <td>Netral</td>\n",
       "    </tr>\n",
       "    <tr>\n",
       "      <th>192</th>\n",
       "      <td>space bound</td>\n",
       "      <td>0.000000</td>\n",
       "      <td>Netral</td>\n",
       "    </tr>\n",
       "    <tr>\n",
       "      <th>193</th>\n",
       "      <td>amp joyner luca track leak onlin httpstcohcreq...</td>\n",
       "      <td>0.000000</td>\n",
       "      <td>Netral</td>\n",
       "    </tr>\n",
       "    <tr>\n",
       "      <th>194</th>\n",
       "      <td>appar hopsin go track togeth bizarr mixtap cal...</td>\n",
       "      <td>0.000000</td>\n",
       "      <td>Netral</td>\n",
       "    </tr>\n",
       "    <tr>\n",
       "      <th>195</th>\n",
       "      <td>twitter header httpstcocjlqcacbxd</td>\n",
       "      <td>0.000000</td>\n",
       "      <td>Netral</td>\n",
       "    </tr>\n",
       "    <tr>\n",
       "      <th>196</th>\n",
       "      <td>anyon want listen defin recommend till collaps...</td>\n",
       "      <td>0.000000</td>\n",
       "      <td>Netral</td>\n",
       "    </tr>\n",
       "    <tr>\n",
       "      <th>197</th>\n",
       "      <td>cemeteri joyner luca hopsin dark hard trap typ...</td>\n",
       "      <td>-0.220833</td>\n",
       "      <td>Negative</td>\n",
       "    </tr>\n",
       "    <tr>\n",
       "      <th>198</th>\n",
       "      <td>thread second best thing happen today michaelj...</td>\n",
       "      <td>0.500000</td>\n",
       "      <td>Positive</td>\n",
       "    </tr>\n",
       "    <tr>\n",
       "      <th>199</th>\n",
       "      <td>thedvebrand tommeywalk carhartt want see shadi...</td>\n",
       "      <td>0.000000</td>\n",
       "      <td>Netral</td>\n",
       "    </tr>\n",
       "    <tr>\n",
       "      <th>200</th>\n",
       "      <td>dgtdgtminya happi birthday art pastelartwork m...</td>\n",
       "      <td>0.000000</td>\n",
       "      <td>Netral</td>\n",
       "    </tr>\n",
       "    <tr>\n",
       "      <th>201</th>\n",
       "      <td>suwaidi dont fuck shadi em caus shadi fuckin k...</td>\n",
       "      <td>-0.400000</td>\n",
       "      <td>Negative</td>\n",
       "    </tr>\n",
       "    <tr>\n",
       "      <th>202</th>\n",
       "      <td>sose_cart randomlyr mayb god sayin respons mon...</td>\n",
       "      <td>0.000000</td>\n",
       "      <td>Netral</td>\n",
       "    </tr>\n",
       "    <tr>\n",
       "      <th>203</th>\n",
       "      <td>hailiemath dress httpstcoxyo0itqcvt</td>\n",
       "      <td>0.000000</td>\n",
       "      <td>Netral</td>\n",
       "    </tr>\n",
       "    <tr>\n",
       "      <th>204</th>\n",
       "      <td>go check song shadi effect prod riddick x beat...</td>\n",
       "      <td>0.000000</td>\n",
       "      <td>Netral</td>\n",
       "    </tr>\n",
       "    <tr>\n",
       "      <th>205</th>\n",
       "      <td>couldnt believ anybodi could natur happi witho...</td>\n",
       "      <td>0.000000</td>\n",
       "      <td>Netral</td>\n",
       "    </tr>\n",
       "    <tr>\n",
       "      <th>206</th>\n",
       "      <td>react dress arian httpstcobar9kqahrk</td>\n",
       "      <td>0.000000</td>\n",
       "      <td>Netral</td>\n",
       "    </tr>\n",
       "    <tr>\n",
       "      <th>207</th>\n",
       "      <td>still one favourit meme slimshadi wednesdaymot...</td>\n",
       "      <td>0.000000</td>\n",
       "      <td>Netral</td>\n",
       "    </tr>\n",
       "    <tr>\n",
       "      <th>208</th>\n",
       "      <td>believ incel characterist</td>\n",
       "      <td>0.000000</td>\n",
       "      <td>Netral</td>\n",
       "    </tr>\n",
       "    <tr>\n",
       "      <th>209</th>\n",
       "      <td>eminem_pro track featur releas novemb 12th biz...</td>\n",
       "      <td>0.000000</td>\n",
       "      <td>Netral</td>\n",
       "    </tr>\n",
       "    <tr>\n",
       "      <th>210</th>\n",
       "      <td>cant wait full song releas analyz scrutin 2 li...</td>\n",
       "      <td>0.175000</td>\n",
       "      <td>Positive</td>\n",
       "    </tr>\n",
       "    <tr>\n",
       "      <th>211</th>\n",
       "      <td>mr smith goe washington meet lawrenc arabia an...</td>\n",
       "      <td>0.000000</td>\n",
       "      <td>Netral</td>\n",
       "    </tr>\n",
       "    <tr>\n",
       "      <th>212</th>\n",
       "      <td>anoth one spotifi playlist go stream life asap...</td>\n",
       "      <td>0.000000</td>\n",
       "      <td>Netral</td>\n",
       "    </tr>\n",
       "    <tr>\n",
       "      <th>213</th>\n",
       "      <td>man proud httpstcozqf5b6he0c motiv inspir quot...</td>\n",
       "      <td>0.800000</td>\n",
       "      <td>Positive</td>\n",
       "    </tr>\n",
       "  </tbody>\n",
       "</table>\n",
       "<p>214 rows × 3 columns</p>\n",
       "</div>"
      ],
      "text/plain": [
       "                                                  text  sentiment  \\\n",
       "0                     yrvun rap god httpstcodi6c5qeksp   0.000000   \n",
       "1                      gonna breastfe mom aint got tit   0.000000   \n",
       "2    smoke fat pound grass fall as faster fat bitch...   0.200000   \n",
       "3    elementau94 game process take time make move p...  -0.400000   \n",
       "4               gaytimesmag im come httpstco6t9t2jdmwm   0.000000   \n",
       "5                 haili nail costum httpstcovdsqm2s6pz   0.000000   \n",
       "6       marshallmath watch want get httpstcoe1iwfzq0ob   0.000000   \n",
       "7    track featur releas novemb 12th bizarresworld ...   0.000000   \n",
       "8    grey leather base white amp orang accent subtl...  -0.283333   \n",
       "9            new1027 see dress year httpstco6cqpjb7qyp   0.000000   \n",
       "10   onthisdateinhiphop slightli yesterday soundtra...   0.000000   \n",
       "11   groundhog dayreact check video sub dig shit gr...  -0.200000   \n",
       "12   wont speak platform chang live luv mob amp rea...  -0.031818   \n",
       "13   mr porter dream fuckin nobodi suck rap woke kn...   0.000000   \n",
       "14                              isnt he tri stay relev   0.000000   \n",
       "15   eminem_pro superson speed vers show abu dhabi ...   1.000000   \n",
       "16   _melly_cr7 mother fker talkin crazi say quit f...   0.000000   \n",
       "17   instinctmag leak track featur ask httpstcojq9b...   0.000000   \n",
       "18   post taken week 500 album time countdown 457 r...   0.000000   \n",
       "19   amp sever nike retail locat across globe chari...   0.000000   \n",
       "20     arlbyun honestli biggest inspir sehun sunbaenim   0.000000   \n",
       "21   choi_bts2 bts_twt need governorsballnyc 2020 h...   0.000000   \n",
       "22   ariana grand enchant disguis httpstco7i61xlaw2...   0.500000   \n",
       "23                          carhart httpstcoystigeepfh   0.000000   \n",
       "24   night america prod jasari somebodi give pusha_...   0.000000   \n",
       "25   xperimentalbtz made month ago someth differ ki...   0.000000   \n",
       "26           remak put youtub drdre httpstcoprs8jaxpqc   0.000000   \n",
       "27             1027kiisfm react dress arian httpstcoba   0.000000   \n",
       "28   333askanangel abudhabi enjoy coffe eminemabudh...   0.400000   \n",
       "29   ganztotti cant wait read evolut goat httpstco9...   0.000000   \n",
       "..                                                 ...        ...   \n",
       "184  woahvicki mop floor bhadbhabi thestarreport tr...   0.000000   \n",
       "185         slimshadi stan stan hey em drop drop merch   0.000000   \n",
       "186  wow what gossip man sudden peopl screenshottin...   0.050000   \n",
       "187  italia_eminem oh btw marshal still gorgeoussex...   0.000000   \n",
       "188  abdullah_basri king god eminemabudhabi httpstc...   0.000000   \n",
       "189       mfw heard joynerluca leak httpstcotoa3yi8zq1   0.000000   \n",
       "190              announc merch drop httpstcog1qn6rx6kz   0.000000   \n",
       "191  ray parker jr amp raydio featur nicki minaj fe...   0.000000   \n",
       "192                                        space bound   0.000000   \n",
       "193  amp joyner luca track leak onlin httpstcohcreq...   0.000000   \n",
       "194  appar hopsin go track togeth bizarr mixtap cal...   0.000000   \n",
       "195                  twitter header httpstcocjlqcacbxd   0.000000   \n",
       "196  anyon want listen defin recommend till collaps...   0.000000   \n",
       "197  cemeteri joyner luca hopsin dark hard trap typ...  -0.220833   \n",
       "198  thread second best thing happen today michaelj...   0.500000   \n",
       "199  thedvebrand tommeywalk carhartt want see shadi...   0.000000   \n",
       "200  dgtdgtminya happi birthday art pastelartwork m...   0.000000   \n",
       "201  suwaidi dont fuck shadi em caus shadi fuckin k...  -0.400000   \n",
       "202  sose_cart randomlyr mayb god sayin respons mon...   0.000000   \n",
       "203                hailiemath dress httpstcoxyo0itqcvt   0.000000   \n",
       "204  go check song shadi effect prod riddick x beat...   0.000000   \n",
       "205  couldnt believ anybodi could natur happi witho...   0.000000   \n",
       "206               react dress arian httpstcobar9kqahrk   0.000000   \n",
       "207  still one favourit meme slimshadi wednesdaymot...   0.000000   \n",
       "208                          believ incel characterist   0.000000   \n",
       "209  eminem_pro track featur releas novemb 12th biz...   0.000000   \n",
       "210  cant wait full song releas analyz scrutin 2 li...   0.175000   \n",
       "211  mr smith goe washington meet lawrenc arabia an...   0.000000   \n",
       "212  anoth one spotifi playlist go stream life asap...   0.000000   \n",
       "213  man proud httpstcozqf5b6he0c motiv inspir quot...   0.800000   \n",
       "\n",
       "    sentimentclass  \n",
       "0           Netral  \n",
       "1           Netral  \n",
       "2         Positive  \n",
       "3         Negative  \n",
       "4           Netral  \n",
       "5           Netral  \n",
       "6           Netral  \n",
       "7           Netral  \n",
       "8         Negative  \n",
       "9           Netral  \n",
       "10          Netral  \n",
       "11        Negative  \n",
       "12        Negative  \n",
       "13          Netral  \n",
       "14          Netral  \n",
       "15        Positive  \n",
       "16          Netral  \n",
       "17          Netral  \n",
       "18          Netral  \n",
       "19          Netral  \n",
       "20          Netral  \n",
       "21          Netral  \n",
       "22        Positive  \n",
       "23          Netral  \n",
       "24          Netral  \n",
       "25          Netral  \n",
       "26          Netral  \n",
       "27          Netral  \n",
       "28        Positive  \n",
       "29          Netral  \n",
       "..             ...  \n",
       "184         Netral  \n",
       "185         Netral  \n",
       "186       Positive  \n",
       "187         Netral  \n",
       "188         Netral  \n",
       "189         Netral  \n",
       "190         Netral  \n",
       "191         Netral  \n",
       "192         Netral  \n",
       "193         Netral  \n",
       "194         Netral  \n",
       "195         Netral  \n",
       "196         Netral  \n",
       "197       Negative  \n",
       "198       Positive  \n",
       "199         Netral  \n",
       "200         Netral  \n",
       "201       Negative  \n",
       "202         Netral  \n",
       "203         Netral  \n",
       "204         Netral  \n",
       "205         Netral  \n",
       "206         Netral  \n",
       "207         Netral  \n",
       "208         Netral  \n",
       "209         Netral  \n",
       "210       Positive  \n",
       "211         Netral  \n",
       "212         Netral  \n",
       "213       Positive  \n",
       "\n",
       "[214 rows x 3 columns]"
      ]
     },
     "execution_count": 35,
     "metadata": {},
     "output_type": "execute_result"
    }
   ],
   "source": [
    "new_df"
   ]
  },
  {
   "cell_type": "markdown",
   "metadata": {},
   "source": [
    "### 3. Aggregation Sentimentclass"
   ]
  },
  {
   "cell_type": "code",
   "execution_count": 36,
   "metadata": {
    "ExecuteTime": {
     "end_time": "2019-10-31T08:08:56.545186Z",
     "start_time": "2019-10-31T08:08:56.502759Z"
    }
   },
   "outputs": [
    {
     "data": {
      "text/html": [
       "<div>\n",
       "<style scoped>\n",
       "    .dataframe tbody tr th:only-of-type {\n",
       "        vertical-align: middle;\n",
       "    }\n",
       "\n",
       "    .dataframe tbody tr th {\n",
       "        vertical-align: top;\n",
       "    }\n",
       "\n",
       "    .dataframe thead th {\n",
       "        text-align: right;\n",
       "    }\n",
       "</style>\n",
       "<table border=\"1\" class=\"dataframe\">\n",
       "  <thead>\n",
       "    <tr style=\"text-align: right;\">\n",
       "      <th></th>\n",
       "      <th>sentimentclass</th>\n",
       "      <th>tweet_count</th>\n",
       "      <th>percent</th>\n",
       "    </tr>\n",
       "  </thead>\n",
       "  <tbody>\n",
       "    <tr>\n",
       "      <th>0</th>\n",
       "      <td>Netral</td>\n",
       "      <td>150</td>\n",
       "      <td>0.700935</td>\n",
       "    </tr>\n",
       "    <tr>\n",
       "      <th>1</th>\n",
       "      <td>Negative</td>\n",
       "      <td>18</td>\n",
       "      <td>0.084112</td>\n",
       "    </tr>\n",
       "    <tr>\n",
       "      <th>2</th>\n",
       "      <td>Positive</td>\n",
       "      <td>46</td>\n",
       "      <td>0.214953</td>\n",
       "    </tr>\n",
       "  </tbody>\n",
       "</table>\n",
       "</div>"
      ],
      "text/plain": [
       "  sentimentclass  tweet_count   percent\n",
       "0         Netral          150  0.700935\n",
       "1       Negative           18  0.084112\n",
       "2       Positive           46  0.214953"
      ]
     },
     "execution_count": 36,
     "metadata": {},
     "output_type": "execute_result"
    }
   ],
   "source": [
    "#count sentiment \n",
    "sentiment = new_df.groupby(['sentimentclass'])['sentimentclass'].count()\n",
    "\n",
    "#make dataframe that will be created a chart \n",
    "chart = pd.DataFrame(sentiment)\n",
    "chart['tweet_count'] = chart['sentimentclass']\n",
    "chart.drop(['sentimentclass'], axis = 1, inplace = True )\n",
    "chart = chart.reset_index()\n",
    "\n",
    "#make a proportion of the number of tweet of each sentiment \n",
    "chart['percent'] = chart['tweet_count']/chart['tweet_count'].sum()\n",
    "chart"
   ]
  },
  {
   "cell_type": "markdown",
   "metadata": {},
   "source": [
    "# Create the model and do the calculation to get your desired output of the data"
   ]
  },
  {
   "cell_type": "code",
   "execution_count": 50,
   "metadata": {
    "ExecuteTime": {
     "end_time": "2019-10-31T08:31:51.084166Z",
     "start_time": "2019-10-31T08:31:51.071216Z"
    }
   },
   "outputs": [
    {
     "data": {
      "text/html": [
       "<div>\n",
       "<style scoped>\n",
       "    .dataframe tbody tr th:only-of-type {\n",
       "        vertical-align: middle;\n",
       "    }\n",
       "\n",
       "    .dataframe tbody tr th {\n",
       "        vertical-align: top;\n",
       "    }\n",
       "\n",
       "    .dataframe thead th {\n",
       "        text-align: right;\n",
       "    }\n",
       "</style>\n",
       "<table border=\"1\" class=\"dataframe\">\n",
       "  <thead>\n",
       "    <tr style=\"text-align: right;\">\n",
       "      <th></th>\n",
       "      <th>text</th>\n",
       "      <th>word_count</th>\n",
       "      <th>char_count</th>\n",
       "      <th>stopwords</th>\n",
       "      <th>hastags</th>\n",
       "      <th>sentiment</th>\n",
       "      <th>sentimentclass</th>\n",
       "    </tr>\n",
       "  </thead>\n",
       "  <tbody>\n",
       "    <tr>\n",
       "      <th>0</th>\n",
       "      <td>yrvun rap god httpstcodi6c5qeksp</td>\n",
       "      <td>4</td>\n",
       "      <td>32</td>\n",
       "      <td>0</td>\n",
       "      <td>0</td>\n",
       "      <td>0.0</td>\n",
       "      <td>Netral</td>\n",
       "    </tr>\n",
       "    <tr>\n",
       "      <th>1</th>\n",
       "      <td>gonna breastfe mom aint got tit</td>\n",
       "      <td>6</td>\n",
       "      <td>31</td>\n",
       "      <td>0</td>\n",
       "      <td>0</td>\n",
       "      <td>0.0</td>\n",
       "      <td>Netral</td>\n",
       "    </tr>\n",
       "    <tr>\n",
       "      <th>2</th>\n",
       "      <td>smoke fat pound grass fall as faster fat bitch...</td>\n",
       "      <td>12</td>\n",
       "      <td>65</td>\n",
       "      <td>1</td>\n",
       "      <td>0</td>\n",
       "      <td>0.2</td>\n",
       "      <td>Positive</td>\n",
       "    </tr>\n",
       "    <tr>\n",
       "      <th>3</th>\n",
       "      <td>elementau94 game process take time make move p...</td>\n",
       "      <td>12</td>\n",
       "      <td>88</td>\n",
       "      <td>0</td>\n",
       "      <td>0</td>\n",
       "      <td>-0.4</td>\n",
       "      <td>Negative</td>\n",
       "    </tr>\n",
       "    <tr>\n",
       "      <th>4</th>\n",
       "      <td>gaytimesmag im come httpstco6t9t2jdmwm</td>\n",
       "      <td>4</td>\n",
       "      <td>38</td>\n",
       "      <td>0</td>\n",
       "      <td>0</td>\n",
       "      <td>0.0</td>\n",
       "      <td>Netral</td>\n",
       "    </tr>\n",
       "  </tbody>\n",
       "</table>\n",
       "</div>"
      ],
      "text/plain": [
       "                                                text  word_count  char_count  \\\n",
       "0                   yrvun rap god httpstcodi6c5qeksp           4          32   \n",
       "1                    gonna breastfe mom aint got tit           6          31   \n",
       "2  smoke fat pound grass fall as faster fat bitch...          12          65   \n",
       "3  elementau94 game process take time make move p...          12          88   \n",
       "4             gaytimesmag im come httpstco6t9t2jdmwm           4          38   \n",
       "\n",
       "   stopwords  hastags  sentiment sentimentclass  \n",
       "0          0        0        0.0         Netral  \n",
       "1          0        0        0.0         Netral  \n",
       "2          1        0        0.2       Positive  \n",
       "3          0        0       -0.4       Negative  \n",
       "4          0        0        0.0         Netral  "
      ]
     },
     "execution_count": 50,
     "metadata": {},
     "output_type": "execute_result"
    }
   ],
   "source": [
    "dataframe.head()"
   ]
  },
  {
   "cell_type": "code",
   "execution_count": 53,
   "metadata": {
    "ExecuteTime": {
     "end_time": "2019-10-31T08:33:02.585565Z",
     "start_time": "2019-10-31T08:33:02.572489Z"
    }
   },
   "outputs": [],
   "source": [
    "#define positive and negative\n",
    "positive = dataframe.loc[dataframe['sentimentclass'] == \"Positive\"]\n",
    "negative = dataframe.loc[dataframe['sentimentclass'] == \"Negative\"]"
   ]
  },
  {
   "cell_type": "code",
   "execution_count": 57,
   "metadata": {
    "ExecuteTime": {
     "end_time": "2019-10-31T08:34:28.171354Z",
     "start_time": "2019-10-31T08:34:28.167035Z"
    }
   },
   "outputs": [],
   "source": [
    "#merge all the happy comments into one paragraph\n",
    "all_text_positive = \"\".join(positive.text.values)\n",
    "all_text_negative = \"\".join(negative.text.values)"
   ]
  },
  {
   "cell_type": "code",
   "execution_count": 59,
   "metadata": {
    "ExecuteTime": {
     "end_time": "2019-10-31T08:34:56.864501Z",
     "start_time": "2019-10-31T08:34:56.859602Z"
    }
   },
   "outputs": [],
   "source": [
    "\n",
    "#make a wordcloud \n",
    "def create_word_cloud(string):\n",
    "    cloud = WordCloud(background_color = \"white\", max_words = 200, stopwords = set(STOPWORDS)).generate(string)\n",
    "    plt.imshow(cloud, interpolation='bilinear')\n",
    "    plt.axis('off')\n",
    "    plt.show()"
   ]
  },
  {
   "cell_type": "code",
   "execution_count": 62,
   "metadata": {
    "ExecuteTime": {
     "end_time": "2019-10-31T08:35:58.338302Z",
     "start_time": "2019-10-31T08:35:57.991567Z"
    }
   },
   "outputs": [
    {
     "data": {
      "image/png": "[encoded data removed]",
      "text/plain": [
       "<Figure size 432x288 with 1 Axes>"
      ]
     },
     "metadata": {
      "needs_background": "light"
     },
     "output_type": "display_data"
    }
   ],
   "source": [
    "#positive\n",
    "create_word_cloud(all_text_positive)"
   ]
  },
  {
   "cell_type": "code",
   "execution_count": 63,
   "metadata": {
    "ExecuteTime": {
     "end_time": "2019-10-31T08:36:35.501014Z",
     "start_time": "2019-10-31T08:36:35.212066Z"
    }
   },
   "outputs": [
    {
     "data": {
      "image/png": "[encoded data removed]",
      "text/plain": [
       "<Figure size 432x288 with 1 Axes>"
      ]
     },
     "metadata": {
      "needs_background": "light"
     },
     "output_type": "display_data"
    }
   ],
   "source": [
    "#negative\n",
    "create_word_cloud(all_text_negative)"
   ]
  },
  {
   "cell_type": "markdown",
   "metadata": {},
   "source": [
    "## Count Vectorize"
   ]
  },
  {
   "cell_type": "code",
   "execution_count": 65,
   "metadata": {
    "ExecuteTime": {
     "end_time": "2019-10-31T08:37:05.934231Z",
     "start_time": "2019-10-31T08:37:05.930060Z"
    }
   },
   "outputs": [],
   "source": [
    "count_vectorizer = CountVectorizer(stop_words='english')"
   ]
  },
  {
   "cell_type": "code",
   "execution_count": null,
   "metadata": {},
   "outputs": [],
   "source": [
    "tfidf = TfidfVectorizer(stop_words='english')"
   ]
  },
  {
   "cell_type": "markdown",
   "metadata": {},
   "source": [
    "## TF-IDF vectorizer "
   ]
  },
  {
   "cell_type": "code",
   "execution_count": 66,
   "metadata": {
    "ExecuteTime": {
     "end_time": "2019-10-31T08:38:02.047414Z",
     "start_time": "2019-10-31T08:38:02.040295Z"
    }
   },
   "outputs": [],
   "source": [
    "tfidf = TfidfVectorizer(stop_words='english')"
   ]
  },
  {
   "cell_type": "code",
   "execution_count": 67,
   "metadata": {
    "ExecuteTime": {
     "end_time": "2019-10-31T08:38:35.466052Z",
     "start_time": "2019-10-31T08:38:35.462055Z"
    }
   },
   "outputs": [],
   "source": [
    "X = dataframe['text']\n",
    "y = dataframe['sentimentclass']"
   ]
  },
  {
   "cell_type": "markdown",
   "metadata": {},
   "source": [
    "## Train Test Spliting"
   ]
  },
  {
   "cell_type": "code",
   "execution_count": 68,
   "metadata": {
    "ExecuteTime": {
     "end_time": "2019-10-31T08:38:41.259601Z",
     "start_time": "2019-10-31T08:38:41.224605Z"
    }
   },
   "outputs": [],
   "source": [
    "#countvectorizer\n",
    "X_vectorizer = count_vectorizer.fit_transform(X)\n",
    "\n",
    "#tfidf vectorizer\n",
    "X_tfidf = tfidf.fit_transform(X)"
   ]
  },
  {
   "cell_type": "code",
   "execution_count": 69,
   "metadata": {
    "ExecuteTime": {
     "end_time": "2019-10-31T08:38:48.610709Z",
     "start_time": "2019-10-31T08:38:48.599288Z"
    }
   },
   "outputs": [],
   "source": [
    "#train test split using countvectorizer \n",
    "train_X_vectorizer, test_X_vectorizer, train_y, test_y = train_test_split(X_vectorizer, y, test_size=0.2, random_state=0)\n",
    "\n",
    "#train test split using tfidfvectorizer \n",
    "train_X_tfidf, test_X_tfidf, train_y, test_y = train_test_split(X_tfidf, y, test_size=0.2, random_state=0)"
   ]
  },
  {
   "cell_type": "markdown",
   "metadata": {},
   "source": [
    "## Machine Leaning Modelling"
   ]
  },
  {
   "cell_type": "markdown",
   "metadata": {},
   "source": [
    "### Logistic Regression"
   ]
  },
  {
   "cell_type": "code",
   "execution_count": 70,
   "metadata": {
    "ExecuteTime": {
     "end_time": "2019-10-31T08:39:44.116810Z",
     "start_time": "2019-10-31T08:39:44.092011Z"
    }
   },
   "outputs": [
    {
     "name": "stderr",
     "output_type": "stream",
     "text": [
      "//anaconda3/lib/python3.7/site-packages/sklearn/linear_model/logistic.py:432: FutureWarning: Default solver will be changed to 'lbfgs' in 0.22. Specify a solver to silence this warning.\n",
      "  FutureWarning)\n",
      "//anaconda3/lib/python3.7/site-packages/sklearn/linear_model/logistic.py:469: FutureWarning: Default multi_class will be changed to 'auto' in 0.22. Specify the multi_class option to silence this warning.\n",
      "  \"this warning.\", FutureWarning)\n"
     ]
    }
   ],
   "source": [
    "# Countvectorizer \n",
    "Lr_vect = LogisticRegression()\n",
    "Lr_vect.fit(train_X_vectorizer,train_y)\n",
    "Lr_pred_vect_train = Lr_vect.predict(train_X_vectorizer)\n",
    "Lr_pred_vect_test = Lr_vect.predict(test_X_vectorizer)"
   ]
  },
  {
   "cell_type": "code",
   "execution_count": 71,
   "metadata": {
    "ExecuteTime": {
     "end_time": "2019-10-31T08:39:51.962430Z",
     "start_time": "2019-10-31T08:39:51.953202Z"
    }
   },
   "outputs": [],
   "source": [
    "# TFIDFVectorizer\n",
    "Lr_tfidf = LogisticRegression()\n",
    "Lr_tfidf.fit(train_X_tfidf,train_y)\n",
    "Lr_pred_tfidf_train = Lr_tfidf.predict(train_X_tfidf)\n",
    "Lr_pred_tfidf_test = Lr_tfidf.predict(test_X_tfidf)"
   ]
  },
  {
   "cell_type": "markdown",
   "metadata": {},
   "source": [
    "### Naive Bayes"
   ]
  },
  {
   "cell_type": "code",
   "execution_count": 72,
   "metadata": {
    "ExecuteTime": {
     "end_time": "2019-10-31T08:40:19.568888Z",
     "start_time": "2019-10-31T08:40:19.558656Z"
    }
   },
   "outputs": [],
   "source": [
    "# Countvectorizer\n",
    "NB_vect = MultinomialNB()\n",
    "NB_vect.fit(train_X_vectorizer,train_y)\n",
    "NB_pred_vect_train = NB_vect.predict(train_X_vectorizer)\n",
    "NB_pred_vect_test = NB_vect.predict(test_X_vectorizer)"
   ]
  },
  {
   "cell_type": "code",
   "execution_count": 73,
   "metadata": {
    "ExecuteTime": {
     "end_time": "2019-10-31T08:40:24.148219Z",
     "start_time": "2019-10-31T08:40:24.140115Z"
    }
   },
   "outputs": [],
   "source": [
    "# TFIDFVectorizer\n",
    "#from sklearn.naive_bayes import GaussianNB\n",
    "NB_tfidf = MultinomialNB()\n",
    "NB_tfidf.fit(train_X_tfidf,train_y)\n",
    "NB_pred_tfidf_train = NB_tfidf.predict(train_X_tfidf)\n",
    "NB_pred_tfidf_test = NB_tfidf.predict(test_X_tfidf)"
   ]
  },
  {
   "cell_type": "markdown",
   "metadata": {},
   "source": [
    "### Model Evaluation"
   ]
  },
  {
   "cell_type": "markdown",
   "metadata": {},
   "source": [
    "#### logistic Regression"
   ]
  },
  {
   "cell_type": "code",
   "execution_count": 74,
   "metadata": {
    "ExecuteTime": {
     "end_time": "2019-10-31T08:40:41.710142Z",
     "start_time": "2019-10-31T08:40:41.686374Z"
    }
   },
   "outputs": [
    {
     "name": "stdout",
     "output_type": "stream",
     "text": [
      "______________ Countvectorizer ______________\n",
      "Information :\n",
      "Recall train & test     : 98.83% & 88.37%\n",
      "Precision train & test  : 98.83% & 88.37%\n",
      "F1 Score train & test   : 98.83% & 88.37%\n"
     ]
    }
   ],
   "source": [
    "# using count vectorizer\n",
    "print(\"______________ Countvectorizer ______________\")\n",
    "\n",
    "# Lr_clf_vec_report_train = classification_report(train_y, Lr_pred_vect_train)\n",
    "# Lr_clf_vec_report_test = classification_report(test_y, Lr_pred_vect_test)\n",
    "\n",
    "# Lr_confmatrix_vect_train = confusion_matrix(train_y, Lr_pred_vect_train) \n",
    "# Lr_confmatrix_vect_test = confusion_matrix(test_y, Lr_pred_vect_test)\n",
    "\n",
    "Lr_recall_vec_train = recall_score(train_y, Lr_pred_vect_train, average=\"micro\")\n",
    "Lr_recall_vec_test = recall_score(test_y, Lr_pred_vect_test,average=\"micro\") \n",
    "\n",
    "Lr_precision_vec_train = precision_score(train_y, Lr_pred_vect_train,average=\"micro\")\n",
    "Lr_precision_vec_test = precision_score(test_y, Lr_pred_vect_test,average=\"micro\")\n",
    "\n",
    "Lr_f1_score_vec_train = f1_score(train_y, Lr_pred_vect_train,average=\"micro\")\n",
    "Lr_f1_score_vec_test = f1_score(test_y,Lr_pred_vect_test,average=\"micro\")\n",
    "\n",
    "print('Information :')\n",
    "# print('Confusion matrix for Train :')\n",
    "# print(Lr_confmatrix_vect_train,'\\n')\n",
    "# print('Confusion matrix for Test :')\n",
    "# print(Lr_confmatrix_vect_test,'\\n')\n",
    "# print('Classification Refort for Train :')\n",
    "# print(Lr_clf_vec_report_train,'\\n')\n",
    "# print('Classification Refort for Test :')\n",
    "# print(Lr_clf_vec_report_test,'\\n')\n",
    "print('Recall train & test     : %.2f%%' % (Lr_recall_vec_train * 100), '&', '%.2f%%' % (Lr_recall_vec_test * 100))\n",
    "print('Precision train & test  : %.2f%%' % (Lr_precision_vec_train * 100), '&', '%.2f%%' % (Lr_precision_vec_test * 100))\n",
    "print('F1 Score train & test   : %.2f%%' % (Lr_f1_score_vec_train * 100), '&', '%.2f%%' % (Lr_f1_score_vec_test * 100))"
   ]
  },
  {
   "cell_type": "code",
   "execution_count": 75,
   "metadata": {
    "ExecuteTime": {
     "end_time": "2019-10-31T08:41:18.590516Z",
     "start_time": "2019-10-31T08:41:18.565926Z"
    }
   },
   "outputs": [
    {
     "name": "stdout",
     "output_type": "stream",
     "text": [
      "______________ TF-IDF ______________\n",
      "Information :\n",
      "Recall train & test     : 69.59% & 81.40%\n",
      "Precision train & test  : 69.59% & 81.40%\n",
      "F1 Score train & test   : 69.59% & 88.37%\n"
     ]
    }
   ],
   "source": [
    "# using count vectorizer\n",
    "print(\"______________ TF-IDF ______________\")\n",
    "\n",
    "\n",
    "Lr_recall_tfidf_train = recall_score(train_y, Lr_pred_tfidf_train, average=\"micro\")\n",
    "Lr_recall_tfidf_test = recall_score(test_y, Lr_pred_tfidf_test,average=\"micro\") \n",
    "\n",
    "Lr_precision_tfidf_train = precision_score(train_y, Lr_pred_tfidf_train,average=\"micro\")\n",
    "Lr_precision_tfidf_test = precision_score(test_y, Lr_pred_tfidf_test,average=\"micro\")\n",
    "\n",
    "Lr_f1_score_tfidf_train = f1_score(train_y, Lr_pred_tfidf_train,average=\"micro\")\n",
    "Lr_f1_score_tfidf_test = f1_score(test_y,Lr_pred_tfidf_test,average=\"micro\")\n",
    "\n",
    "print('Information :')\n",
    "print('Recall train & test     : %.2f%%' % (Lr_recall_tfidf_train * 100), '&', '%.2f%%' % (Lr_recall_tfidf_test * 100))\n",
    "print('Precision train & test  : %.2f%%' % (Lr_precision_tfidf_train * 100), '&', '%.2f%%' % (Lr_precision_tfidf_test * 100))\n",
    "print('F1 Score train & test   : %.2f%%' % (Lr_f1_score_tfidf_train * 100), '&', '%.2f%%' % (Lr_f1_score_vec_test * 100))"
   ]
  },
  {
   "cell_type": "markdown",
   "metadata": {},
   "source": [
    "#### Naive Bayes"
   ]
  },
  {
   "cell_type": "code",
   "execution_count": 76,
   "metadata": {
    "ExecuteTime": {
     "end_time": "2019-10-31T08:42:04.794660Z",
     "start_time": "2019-10-31T08:42:04.774099Z"
    }
   },
   "outputs": [
    {
     "name": "stdout",
     "output_type": "stream",
     "text": [
      "______________ Countvectorizer ______________\n",
      "Information :\n",
      "Recall train & test     : 100.00% & 69.77%\n",
      "Precision train & test  : 100.00% & 69.77%\n",
      "F1 Score train & test   : 100.00% & 69.77%\n"
     ]
    }
   ],
   "source": [
    "# find model evaluation for naive bayes\n",
    "# using count vectorizer\n",
    "print(\"______________ Countvectorizer ______________\")\n",
    "\n",
    "\n",
    "NB_recall_vec_train = recall_score(train_y, NB_pred_vect_train, average=\"micro\")\n",
    "NB_recall_vec_test = recall_score(test_y, NB_pred_vect_test,average=\"micro\") \n",
    "\n",
    "NB_precision_vec_train = precision_score(train_y, NB_pred_vect_train,average=\"micro\")\n",
    "NB_precision_vec_test = precision_score(test_y, NB_pred_vect_test,average=\"micro\")\n",
    "\n",
    "NB_f1_score_vec_train = f1_score(train_y, NB_pred_vect_train,average=\"micro\")\n",
    "NB_f1_score_vec_test = f1_score(test_y,NB_pred_vect_test,average=\"micro\")\n",
    "\n",
    "print('Information :')\n",
    "print('Recall train & test     : %.2f%%' % (NB_recall_vec_train * 100), '&', '%.2f%%' % (NB_recall_vec_test * 100))\n",
    "print('Precision train & test  : %.2f%%' % (NB_precision_vec_train * 100), '&', '%.2f%%' % (NB_precision_vec_test * 100))\n",
    "print('F1 Score train & test   : %.2f%%' % (NB_f1_score_vec_train * 100), '&', '%.2f%%' % (NB_f1_score_vec_test * 100))"
   ]
  },
  {
   "cell_type": "code",
   "execution_count": 77,
   "metadata": {
    "ExecuteTime": {
     "end_time": "2019-10-31T08:42:11.047590Z",
     "start_time": "2019-10-31T08:42:11.027151Z"
    }
   },
   "outputs": [
    {
     "name": "stdout",
     "output_type": "stream",
     "text": [
      "______________ TF-IDF ______________\n",
      "Information :\n",
      "Recall train & test     : 84.80% & 83.72%\n",
      "Precision train & test  : 84.80% & 83.72%\n",
      "F1 Score train & test   : 84.80% & 69.77%\n"
     ]
    }
   ],
   "source": [
    "# using count vectorizer\n",
    "print(\"______________ TF-IDF ______________\")\n",
    "\n",
    "\n",
    "NB_recall_tfidf_train = recall_score(train_y, NB_pred_tfidf_train, average=\"micro\")\n",
    "NB_recall_tfidf_test = recall_score(test_y, NB_pred_tfidf_test,average=\"micro\") \n",
    "\n",
    "NB_precision_tfidf_train = precision_score(train_y, NB_pred_tfidf_train,average=\"micro\")\n",
    "NB_precision_tfidf_test = precision_score(test_y, NB_pred_tfidf_test,average=\"micro\")\n",
    "\n",
    "NB_f1_score_tfidf_train = f1_score(train_y, NB_pred_tfidf_train,average=\"micro\")\n",
    "NB_f1_score_tfidf_test = f1_score(test_y,NB_pred_tfidf_test,average=\"micro\")\n",
    "\n",
    "print('Information :')\n",
    "print('Recall train & test     : %.2f%%' % (NB_recall_tfidf_train * 100), '&', '%.2f%%' % (NB_recall_tfidf_test * 100))\n",
    "print('Precision train & test  : %.2f%%' % (NB_precision_tfidf_train * 100), '&', '%.2f%%' % (NB_precision_tfidf_test * 100))\n",
    "print('F1 Score train & test   : %.2f%%' % (NB_f1_score_tfidf_train * 100), '&', '%.2f%%' % (NB_f1_score_vec_test * 100))"
   ]
  },
  {
   "cell_type": "markdown",
   "metadata": {},
   "source": [
    "### 4. Visualization About Eminem Tweet"
   ]
  },
  {
   "cell_type": "markdown",
   "metadata": {},
   "source": [
    "#### 4.1. Barchart"
   ]
  },
  {
   "cell_type": "code",
   "execution_count": 37,
   "metadata": {
    "ExecuteTime": {
     "end_time": "2019-10-31T08:09:44.963395Z",
     "start_time": "2019-10-31T08:09:44.681384Z"
    }
   },
   "outputs": [
    {
     "data": {
      "image/png": "[encoded data removed]",
      "text/plain": [
       "<Figure size 432x288 with 1 Axes>"
      ]
     },
     "metadata": {
      "needs_background": "light"
     },
     "output_type": "display_data"
    }
   ],
   "source": [
    "#make a barchar\n",
    "ax = sns.barplot(x= 'sentimentclass', y='tweet_count', data=chart)\n",
    "ax = ax.set_title('The number of sentiment for each class') "
   ]
  },
  {
   "cell_type": "markdown",
   "metadata": {},
   "source": [
    "#### 4.2. Pie Chart"
   ]
  },
  {
   "cell_type": "code",
   "execution_count": 38,
   "metadata": {
    "ExecuteTime": {
     "end_time": "2019-10-31T08:09:47.171339Z",
     "start_time": "2019-10-31T08:09:47.010971Z"
    }
   },
   "outputs": [
    {
     "data": {
      "text/plain": [
       "(-1.117221151010436,\n",
       " 1.103401397704803,\n",
       " -1.1123773067336928,\n",
       " 1.1376236355508893)"
      ]
     },
     "execution_count": 38,
     "metadata": {},
     "output_type": "execute_result"
    },
    {
     "data": {
      "image/png": "[encoded data removed]",
      "text/plain": [
       "<Figure size 720x432 with 1 Axes>"
      ]
     },
     "metadata": {},
     "output_type": "display_data"
    }
   ],
   "source": [
    "colors = [ 'lightskyblue','red','yellowgreen']\n",
    "explode = (0, 0.2, 0)  # explode 1st slice\n",
    "# Plot\n",
    "figure = plt.figure(figsize= (10,6))\n",
    "plt.pie(chart['tweet_count'], explode=explode, labels=chart['sentimentclass'], colors=colors,\n",
    "autopct='%1.1f%%', shadow=True, startangle=140)\n",
    "plt.axis('equal')"
   ]
  }
 ],
 "metadata": {
  "kernelspec": {
   "display_name": "Python 3",
   "language": "python",
   "name": "python3"
  },
  "language_info": {
   "codemirror_mode": {
    "name": "ipython",
    "version": 3
   },
   "file_extension": ".py",
   "mimetype": "text/x-python",
   "name": "python",
   "nbconvert_exporter": "python",
   "pygments_lexer": "ipython3",
   "version": "3.7.3"
  },
  "toc": {
   "base_numbering": 1,
   "nav_menu": {},
   "number_sections": true,
   "sideBar": true,
   "skip_h1_title": false,
   "title_cell": "Table of Contents",
   "title_sidebar": "Contents",
   "toc_cell": false,
   "toc_position": {
    "height": "calc(100% - 180px)",
    "left": "10px",
    "top": "150px",
    "width": "336px"
   },
   "toc_section_display": true,
   "toc_window_display": true
  }
 },
 "nbformat": 4,
 "nbformat_minor": 2
}
